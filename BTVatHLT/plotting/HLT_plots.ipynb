{
 "cells": [
  {
   "cell_type": "code",
   "execution_count": 2,
   "id": "finnish-visibility",
   "metadata": {},
   "outputs": [],
   "source": [
    "import ROOT as R"
   ]
  },
  {
   "cell_type": "code",
   "execution_count": 3,
   "id": "adaptive-murray",
   "metadata": {},
   "outputs": [],
   "source": [
    "fin_CPU = R.TFile(\"plot_CPU_65/ROCS_DeepJet.root\")\n",
    "fin_GPU = R.TFile(\"plot_GPU_700/ROCS_DeepJet.root\")"
   ]
  },
  {
   "cell_type": "code",
   "execution_count": 4,
   "id": "pending-beverage",
   "metadata": {},
   "outputs": [],
   "source": [
    "g1_CPU = fin_CPU.Get(\"roccurve_0\")\n",
    "g1_GPU = fin_GPU.Get(\"roccurve_0\")"
   ]
  },
  {
   "cell_type": "code",
   "execution_count": 11,
   "id": "possible-neutral",
   "metadata": {},
   "outputs": [
    {
     "name": "stderr",
     "output_type": "stream",
     "text": [
      "Info in <TCanvas::Print>: pdf file ROC_logy.pdf has been created\n",
      "Info in <TCanvas::Print>: pdf file ROC.pdf has been created\n"
     ]
    }
   ],
   "source": [
    "c = R.TCanvas()\n",
    "c.SetGridx()\n",
    "c.SetGridy()\n",
    "c.SetLogy()\n",
    "\n",
    "g1_CPU.SetLineColor(R.kRed)\n",
    "g1_GPU.SetLineColor(R.kGreen)\n",
    "\n",
    "g1_CPU.SetLineWidth(2)\n",
    "g1_GPU.SetLineWidth(2)\n",
    "\n",
    "g1_CPU.Draw()\n",
    "g1_GPU.Draw(\"SAME\")\n",
    "lg = R.TLegend(0.1,0.7,0.9,0.9)\n",
    "lg.AddEntry(g1_CPU,'CPU 65 epochs','l')\n",
    "lg.AddEntry(g1_GPU,'GPU 700 epochs','l')\n",
    "lg.SetFillColorAlpha(1,0.1)\n",
    "lg.SetLineColorAlpha(1,0.0)\n",
    "lg.Draw(\"SAME\")\n",
    "c.SaveAs(\"ROC_logy.pdf\")\n",
    "\n",
    "c.SetLogy(0)\n",
    "g1_CPU.Draw()\n",
    "g1_GPU.Draw(\"SAME\")\n",
    "lg = R.TLegend(0.1,0.7,0.9,0.9)\n",
    "lg.AddEntry(g1_CPU,'CPU 65 epochs','l')\n",
    "lg.AddEntry(g1_GPU,'GPU 700 epochs','l')\n",
    "lg.SetFillColorAlpha(1,0.1)\n",
    "lg.SetLineColorAlpha(1,0.0)\n",
    "lg.Draw(\"SAME\")\n",
    "c.SaveAs(\"ROC.pdf\")"
   ]
  },
  {
   "cell_type": "code",
   "execution_count": null,
   "id": "processed-specific",
   "metadata": {},
   "outputs": [],
   "source": []
  }
 ],
 "metadata": {
  "kernelspec": {
   "display_name": "my_ml_env",
   "language": "python",
   "name": "my_ml_env"
  },
  "language_info": {
   "codemirror_mode": {
    "name": "ipython",
    "version": 3
   },
   "file_extension": ".py",
   "mimetype": "text/x-python",
   "name": "python",
   "nbconvert_exporter": "python",
   "pygments_lexer": "ipython3",
   "version": "3.9.9"
  }
 },
 "nbformat": 4,
 "nbformat_minor": 5
}
