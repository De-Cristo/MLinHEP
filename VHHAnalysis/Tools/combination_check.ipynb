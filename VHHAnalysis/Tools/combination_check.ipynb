{
 "cells": [
  {
   "cell_type": "code",
   "execution_count": 1,
   "id": "objective-economy",
   "metadata": {},
   "outputs": [
    {
     "name": "stderr",
     "output_type": "stream",
     "text": [
      "ERROR in cling::CIFactory::createCI(): cannot extract standard library include paths!\n",
      "Invoking:\n",
      "  LC_ALL=C x86_64-conda-linux-gnu-c++   -DNDEBUG -xc++ -E -v /dev/null 2>&1 | sed -n -e '/^.include/,${' -e '/^ \\/.*++/p' -e '}'\n",
      "Results was:\n",
      "With exit code 0\n"
     ]
    },
    {
     "name": "stdout",
     "output_type": "stream",
     "text": [
      "Welcome to JupyROOT 6.24/02\n"
     ]
    }
   ],
   "source": [
    "import ROOT as R\n",
    "from util import *\n",
    "from analysis_branch import *\n",
    "import os"
   ]
  },
  {
   "cell_type": "code",
   "execution_count": 2,
   "id": "driving-tooth",
   "metadata": {},
   "outputs": [],
   "source": [
    "R.EnableImplicitMT()"
   ]
  },
  {
   "cell_type": "code",
   "execution_count": 3,
   "id": "chief-input",
   "metadata": {},
   "outputs": [],
   "source": [
    "path = './Pre_SlimmedSignal'\n",
    "norm_path = '/data/pubfs/zhanglic/workspace/VHH4bAnalysisNtuples/TEST_0103_UL_DeepJet'\n",
    "string_list_for_ZHH   = []"
   ]
  },
  {
   "cell_type": "code",
   "execution_count": 24,
   "id": "heard-destination",
   "metadata": {},
   "outputs": [],
   "source": [
    "model = R.RDF.TH1DModel('ZHH', 'genWeight', 1000, 0.9, 1.1)"
   ]
  },
  {
   "cell_type": "code",
   "execution_count": 63,
   "id": "demanding-pregnancy",
   "metadata": {},
   "outputs": [
    {
     "name": "stdout",
     "output_type": "stream",
     "text": [
      "ZHHTo4B_CV_0_5_C2V_1_0_C3_1_0\n",
      "ZHHTo4B_CV_1_0_C2V_0_0_C3_1_0\n",
      "ZHHTo4B_CV_1_0_C2V_1_0_C3_0_0\n",
      "ZHHTo4B_CV_1_0_C2V_1_0_C3_1_0\n",
      "ZHHTo4B_CV_1_0_C2V_1_0_C3_2_0\n",
      "ZHHTo4B_CV_1_0_C2V_2_0_C3_1_0\n",
      "ZHHTo4B_CV_1_5_C2V_1_0_C3_1_0\n"
     ]
    }
   ],
   "source": [
    "for _file in file_list_ZHH:\n",
    "    if _file == 'ZHHTo4B_CV_1_0_C2V_1_0_C3_20_0':\n",
    "        continue\n",
    "    print(_file)\n",
    "    string_list_for_ZHH.append('{0}/{1}.root'.format(path,_file))\n",
    "    rdf_dict[_file] = R.RDataFrame('Events','{0}/{1}.root'.format(path,_file))\n",
    "#     histo_dict[_file] = rdf_dict[_file].Histo1D(model, 'weight')\n",
    "    histo_dict[_file] = rdf_dict[_file].Histo1D('weight')"
   ]
  },
  {
   "cell_type": "code",
   "execution_count": 70,
   "id": "olympic-constraint",
   "metadata": {},
   "outputs": [
    {
     "name": "stdout",
     "output_type": "stream",
     "text": [
      "ZHHTo4B_CV_0_5_C2V_1_0_C3_1_0\n",
      "ZHHTo4B_CV_1_0_C2V_0_0_C3_1_0\n",
      "ZHHTo4B_CV_1_0_C2V_1_0_C3_0_0\n",
      "ZHHTo4B_CV_1_0_C2V_1_0_C3_1_0\n",
      "ZHHTo4B_CV_1_0_C2V_1_0_C3_2_0\n",
      "ZHHTo4B_CV_1_0_C2V_2_0_C3_1_0\n",
      "ZHHTo4B_CV_1_5_C2V_1_0_C3_1_0\n",
      "ZHHTo4B_CV_1_0_C2V_1_0_C3_20_0\n"
     ]
    }
   ],
   "source": [
    "for _file in file_list_ZHH:\n",
    "    print(_file)\n",
    "    string_list_for_ZHH.append('{0}/{1}/*.root'.format(norm_path,_file))\n",
    "    rdf_dict[_file] = R.RDataFrame('Events','{0}/{1}/*.root'.format(norm_path,_file))\n",
    "#     histo_dict[_file] = rdf_dict[_file].Histo1D(model, 'genWeight')\n",
    "    histo_dict[_file] = rdf_dict[_file].Filter('boostedCategory == 4').Histo1D('VHH_HH_pT','weight')"
   ]
  },
  {
   "cell_type": "code",
   "execution_count": 71,
   "id": "advanced-nothing",
   "metadata": {},
   "outputs": [
    {
     "data": {
      "image/png": "[encoded data removed]",
      "text/plain": [
       "<IPython.core.display.Image object>"
      ]
     },
     "metadata": {},
     "output_type": "display_data"
    }
   ],
   "source": [
    "c = R.TCanvas()\n",
    "c.SetLogy()\n",
    "R.gStyle.SetOptStat(0000)\n",
    "histo_dict['ZHHTo4B_CV_1_0_C2V_1_0_C3_1_0'].Draw()\n",
    "c.Draw()"
   ]
  },
  {
   "cell_type": "code",
   "execution_count": null,
   "id": "figured-familiar",
   "metadata": {},
   "outputs": [],
   "source": []
  }
 ],
 "metadata": {
  "kernelspec": {
   "display_name": "my_ml_env",
   "language": "python",
   "name": "my_ml_env"
  },
  "language_info": {
   "codemirror_mode": {
    "name": "ipython",
    "version": 3
   },
   "file_extension": ".py",
   "mimetype": "text/x-python",
   "name": "python",
   "nbconvert_exporter": "python",
   "pygments_lexer": "ipython3",
   "version": "3.9.9"
  }
 },
 "nbformat": 4,
 "nbformat_minor": 5
}
