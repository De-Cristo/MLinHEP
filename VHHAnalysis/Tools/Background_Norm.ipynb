{
 "cells": [
  {
   "cell_type": "code",
   "execution_count": 1,
   "id": "verified-connectivity",
   "metadata": {},
   "outputs": [
    {
     "name": "stderr",
     "output_type": "stream",
     "text": [
      "ERROR in cling::CIFactory::createCI(): cannot extract standard library include paths!\n",
      "Invoking:\n",
      "  LC_ALL=C x86_64-conda-linux-gnu-c++   -DNDEBUG -xc++ -E -v /dev/null 2>&1 | sed -n -e '/^.include/,${' -e '/^ \\/.*++/p' -e '}'\n",
      "Results was:\n",
      "With exit code 0\n"
     ]
    },
    {
     "name": "stdout",
     "output_type": "stream",
     "text": [
      "Welcome to JupyROOT 6.24/02\n"
     ]
    }
   ],
   "source": [
    "import ROOT as R\n",
    "from analysis_branch import *\n",
    "from util import *"
   ]
  },
  {
   "cell_type": "code",
   "execution_count": 2,
   "id": "adaptive-silly",
   "metadata": {},
   "outputs": [],
   "source": [
    "R.EnableImplicitMT()"
   ]
  },
  {
   "cell_type": "code",
   "execution_count": 3,
   "id": "unknown-decrease",
   "metadata": {},
   "outputs": [],
   "source": [
    "norm_path = '/data/pubfs/zhanglic/workspace/MLinHEP/VHHAnalysis/Tools/Pre_SlimmedSample'"
   ]
  },
  {
   "cell_type": "code",
   "execution_count": 4,
   "id": "floating-philosophy",
   "metadata": {},
   "outputs": [],
   "source": [
    "sample_list = ['Data','TT','ttbb','DY','Other']"
   ]
  },
  {
   "cell_type": "code",
   "execution_count": 5,
   "id": "serious-budapest",
   "metadata": {},
   "outputs": [],
   "source": [
    "for _sample in sample_list:\n",
    "    rdf_dict[_sample+'_SB_2b'] = R.RDataFrame('Events',norm_path+'/'+_sample+'_Zll_rHH_SB_two_btag.root')\n",
    "    rdf_dict[_sample+'_SB_3b'] = R.RDataFrame('Events',norm_path+'/'+_sample+'_Zll_rHH_SB_three_btag.root')\n",
    "    rdf_dict[_sample+'_SB_4b'] = R.RDataFrame('Events',norm_path+'/'+_sample+'_Zll_rHH_SB_four_btag.root')\n",
    "    rdf_dict[_sample+'_CR_2b'] = R.RDataFrame('Events',norm_path+'/'+_sample+'_Zll_rHH_CR_two_btag.root')\n",
    "    rdf_dict[_sample+'_CR_3b'] = R.RDataFrame('Events',norm_path+'/'+_sample+'_Zll_rHH_CR_three_btag.root')\n",
    "    rdf_dict[_sample+'_CR_4b'] = R.RDataFrame('Events',norm_path+'/'+_sample+'_Zll_rHH_CR_four_btag.root')\n",
    "    rdf_dict[_sample+'_SR_2b'] = R.RDataFrame('Events',norm_path+'/'+_sample+'_Zll_rHH_SR_two_btag.root')\n",
    "    rdf_dict[_sample+'_SR_3b'] = R.RDataFrame('Events',norm_path+'/'+_sample+'_Zll_rHH_SR_three_btag.root')\n",
    "    rdf_dict[_sample+'_SR_4b'] = R.RDataFrame('Events',norm_path+'/'+_sample+'_Zll_rHH_SR_four_btag.root')\n",
    "#END"
   ]
  },
  {
   "cell_type": "code",
   "execution_count": 6,
   "id": "favorite-melissa",
   "metadata": {},
   "outputs": [],
   "source": [
    "model = R.RDF.TH1DModel('No3_btag_score', 'No3_btag_score', 20, 0, 1)"
   ]
  },
  {
   "cell_type": "code",
   "execution_count": 7,
   "id": "premier-spray",
   "metadata": {},
   "outputs": [],
   "source": [
    "f_hist_out_Z = R.TFile('Histo_for_No3_btag_score_Z.root' ,'RECREATE')"
   ]
  },
  {
   "cell_type": "code",
   "execution_count": 8,
   "id": "white-exhibit",
   "metadata": {},
   "outputs": [],
   "source": [
    "for _sample in sample_list:\n",
    "    model = R.RDF.TH1DModel(_sample+'_SB_2b_Z_var'+'No3_btag_score','No3_btag_score', 20, 0, 1)\n",
    "    histo_dict[_sample+'_SB_2b_Z_var'] = rdf_dict[_sample+'_SB_2b'].Filter('isZee||isZmm')\\\n",
    "    .Filter('V_mass>75 && V_mass<105')\\\n",
    "    .Histo1D(model,'No3_btag_score','weight')\n",
    "    \n",
    "    model = R.RDF.TH1DModel(_sample+'_SB_3b_Z_var'+'No3_btag_score','No3_btag_score', 20, 0, 1)\n",
    "    histo_dict[_sample+'_SB_3b_Z_var'] = rdf_dict[_sample+'_SB_3b'].Filter('isZee||isZmm')\\\n",
    "    .Filter('V_mass>75 && V_mass<105')\\\n",
    "    .Histo1D(model,'No3_btag_score','weight')\n",
    "    \n",
    "    model = R.RDF.TH1DModel(_sample+'_SB_4b_Z_var'+'No3_btag_score','No3_btag_score', 20, 0, 1)\n",
    "    histo_dict[_sample+'_SB_4b_Z_var'] = rdf_dict[_sample+'_SB_4b'].Filter('isZee||isZmm')\\\n",
    "    .Filter('V_mass>75 && V_mass<105')\\\n",
    "    .Histo1D(model,'No3_btag_score','weight')\n",
    "    \n",
    "    histo_dict[_sample+'_SB_2b_Z_var'].Write()\n",
    "    histo_dict[_sample+'_SB_3b_Z_var'].Write()\n",
    "    histo_dict[_sample+'_SB_4b_Z_var'].Write()\n",
    "    \n",
    "    \n",
    "    model = R.RDF.TH1DModel(_sample+'_CR_2b_Z_var'+'No3_btag_score','No3_btag_score', 20, 0, 1)\n",
    "    histo_dict[_sample+'_CR_2b_Z_var'] = rdf_dict[_sample+'_CR_2b'].Filter('isZee||isZmm')\\\n",
    "    .Filter('V_mass>75 && V_mass<105')\\\n",
    "    .Histo1D(model,'No3_btag_score','weight')\n",
    "    \n",
    "    model = R.RDF.TH1DModel(_sample+'_CR_3b_Z_var'+'No3_btag_score','No3_btag_score', 20, 0, 1)\n",
    "    histo_dict[_sample+'_CR_3b_Z_var'] = rdf_dict[_sample+'_CR_3b'].Filter('isZee||isZmm')\\\n",
    "    .Filter('V_mass>75 && V_mass<105')\\\n",
    "    .Histo1D(model,'No3_btag_score','weight')\n",
    "    \n",
    "    model = R.RDF.TH1DModel(_sample+'_CR_4b_Z_var'+'No3_btag_score','No3_btag_score', 20, 0, 1)\n",
    "    histo_dict[_sample+'_CR_4b_Z_var'] = rdf_dict[_sample+'_CR_4b'].Filter('isZee||isZmm')\\\n",
    "    .Filter('V_mass>75 && V_mass<105')\\\n",
    "    .Histo1D(model,'No3_btag_score','weight')\n",
    "    \n",
    "    histo_dict[_sample+'_CR_2b_Z_var'].Write()\n",
    "    histo_dict[_sample+'_CR_3b_Z_var'].Write()\n",
    "    histo_dict[_sample+'_CR_4b_Z_var'].Write()\n",
    "    \n",
    "    model = R.RDF.TH1DModel(_sample+'_SR_2b_Z_var'+'No3_btag_score','No3_btag_score', 20, 0, 1)\n",
    "    histo_dict[_sample+'_SR_2b_Z_var'] = rdf_dict[_sample+'_SR_2b'].Filter('isZee||isZmm')\\\n",
    "    .Filter('V_mass>75 && V_mass<105')\\\n",
    "    .Histo1D(model,'No3_btag_score','weight')\n",
    "    \n",
    "    model = R.RDF.TH1DModel(_sample+'_SR_3b_Z_var'+'No3_btag_score','No3_btag_score', 20, 0, 1)\n",
    "    histo_dict[_sample+'_SR_3b_Z_var'] = rdf_dict[_sample+'_SR_3b'].Filter('isZee||isZmm')\\\n",
    "    .Filter('V_mass>75 && V_mass<105')\\\n",
    "    .Histo1D(model,'No3_btag_score','weight')\n",
    "    \n",
    "    model = R.RDF.TH1DModel(_sample+'_SR_4b_Z_var'+'No3_btag_score','No3_btag_score', 20, 0, 1)\n",
    "    histo_dict[_sample+'_SR_4b_Z_var'] = rdf_dict[_sample+'_SR_4b'].Filter('isZee||isZmm')\\\n",
    "    .Filter('V_mass>75 && V_mass<105')\\\n",
    "    .Histo1D(model,'No3_btag_score','weight')\n",
    "    \n",
    "    histo_dict[_sample+'_SR_2b_Z_var'].Write()\n",
    "    histo_dict[_sample+'_SR_3b_Z_var'].Write()\n",
    "    histo_dict[_sample+'_SR_4b_Z_var'].Write()\n",
    "#END"
   ]
  },
  {
   "cell_type": "code",
   "execution_count": 9,
   "id": "coastal-mouth",
   "metadata": {},
   "outputs": [],
   "source": [
    "f_hist_out_Z.Close()"
   ]
  },
  {
   "cell_type": "code",
   "execution_count": 29,
   "id": "focal-institute",
   "metadata": {},
   "outputs": [],
   "source": [
    "f_hist_in_Z = R.TFile('Histo_for_No3_btag_score_Z.root','READ')"
   ]
  },
  {
   "cell_type": "code",
   "execution_count": 30,
   "id": "temporal-ridge",
   "metadata": {},
   "outputs": [],
   "source": [
    "histo_dict  = {}\n",
    "keys = f_hist_in_Z.GetListOfKeys()\n",
    "for key in keys:\n",
    "    histo_dict[key.ReadObj().GetName()] = f_hist_in_Z.Get(key.ReadObj().GetName())\n",
    "#     print(key.ReadObj().GetName())"
   ]
  },
  {
   "cell_type": "code",
   "execution_count": 31,
   "id": "distinct-violation",
   "metadata": {
    "tags": []
   },
   "outputs": [],
   "source": [
    "hs = R.THStack(\"stack\",\"No3_btag_score\")\n",
    "\n",
    "hs.Add(histo_dict['Other_SB_2b_Z_varNo3_btag_score'])\n",
    "histo_dict['Other_SB_2b_Z_varNo3_btag_score'].SetFillColor(800)\n",
    "\n",
    "hs.Add(histo_dict['ttbb_SB_2b_Z_varNo3_btag_score'])\n",
    "histo_dict['ttbb_SB_2b_Z_varNo3_btag_score'].SetFillColor(432)\n",
    "\n",
    "hs.Add(histo_dict['TT_SB_2b_Z_varNo3_btag_score'])\n",
    "histo_dict['TT_SB_2b_Z_varNo3_btag_score'].SetFillColor(600)\n",
    "\n",
    "hs.Add(histo_dict['DY_SB_2b_Z_varNo3_btag_score'])\n",
    "histo_dict['DY_SB_2b_Z_varNo3_btag_score'].SetFillColor(400)\n",
    "\n",
    "histo_dict['Data_SB_2b_Z_varNo3_btag_score'].SetMarkerSize()\n",
    "histo_dict['Data_SB_2b_Z_varNo3_btag_score'].SetMarkerStyle(20)\n",
    "histo_dict['Data_SB_2b_Z_varNo3_btag_score'].Sumw2()\n"
   ]
  },
  {
   "cell_type": "code",
   "execution_count": 13,
   "id": "capable-desktop",
   "metadata": {
    "tags": []
   },
   "outputs": [
    {
     "data": {
      "image/png": "[encoded data removed]",
      "text/plain": [
       "<IPython.core.display.Image object>"
      ]
     },
     "metadata": {},
     "output_type": "display_data"
    }
   ],
   "source": [
    "c = R.TCanvas()\n",
    "R.gStyle.SetOptStat(0000)\n",
    "hs.Draw('hist')\n",
    "histo_dict['Data_SB_2b_Z_varNo3_btag_score'].Draw('SAME')\n",
    "hs.Draw('histSAME')\n",
    "histo_dict['Data_SB_2b_Z_varNo3_btag_score'].Draw('SAME')\n",
    "c.Draw()"
   ]
  },
  {
   "cell_type": "code",
   "execution_count": 14,
   "id": "middle-graduation",
   "metadata": {},
   "outputs": [],
   "source": [
    "hs = R.THStack(\"stack\",\"No3_btag_score\")\n",
    "\n",
    "hs.Add(histo_dict['Other_CR_2b_Z_varNo3_btag_score'])\n",
    "histo_dict['Other_CR_2b_Z_varNo3_btag_score'].SetFillColor(800)\n",
    "\n",
    "hs.Add(histo_dict['ttbb_CR_2b_Z_varNo3_btag_score'])\n",
    "histo_dict['ttbb_CR_2b_Z_varNo3_btag_score'].SetFillColor(432)\n",
    "\n",
    "hs.Add(histo_dict['TT_CR_2b_Z_varNo3_btag_score'])\n",
    "histo_dict['TT_CR_2b_Z_varNo3_btag_score'].SetFillColor(600)\n",
    "\n",
    "hs.Add(histo_dict['DY_CR_2b_Z_varNo3_btag_score'])\n",
    "histo_dict['DY_CR_2b_Z_varNo3_btag_score'].SetFillColor(400)\n",
    "\n",
    "histo_dict['Data_CR_2b_Z_varNo3_btag_score'].SetMarkerSize()\n",
    "histo_dict['Data_CR_2b_Z_varNo3_btag_score'].SetMarkerStyle(20)\n",
    "histo_dict['Data_CR_2b_Z_varNo3_btag_score'].Sumw2()"
   ]
  },
  {
   "cell_type": "code",
   "execution_count": 15,
   "id": "worthy-radar",
   "metadata": {},
   "outputs": [
    {
     "data": {
      "image/png": "[encoded data removed]",
      "text/plain": [
       "<IPython.core.display.Image object>"
      ]
     },
     "metadata": {},
     "output_type": "display_data"
    }
   ],
   "source": [
    "c = R.TCanvas()\n",
    "R.gStyle.SetOptStat(0000)\n",
    "hs.Draw('hist')\n",
    "histo_dict['Data_CR_2b_Z_varNo3_btag_score'].Draw('SAME')\n",
    "hs.Draw('histSAME')\n",
    "histo_dict['Data_CR_2b_Z_varNo3_btag_score'].Draw('SAME')\n",
    "c.Draw()"
   ]
  },
  {
   "cell_type": "code",
   "execution_count": 32,
   "id": "minute-dealer",
   "metadata": {},
   "outputs": [
    {
     "data": {
      "image/png": "[encoded data removed]",
      "text/plain": [
       "<IPython.core.display.Image object>"
      ]
     },
     "metadata": {},
     "output_type": "display_data"
    }
   ],
   "source": [
    "hs = R.THStack(\"stack\",\"No3_btag_score\")\n",
    "\n",
    "hs.Add(histo_dict['Other_CR_3b_Z_varNo3_btag_score'])\n",
    "histo_dict['Other_CR_3b_Z_varNo3_btag_score'].SetFillColor(800)\n",
    "\n",
    "hs.Add(histo_dict['ttbb_CR_3b_Z_varNo3_btag_score'])\n",
    "histo_dict['ttbb_CR_3b_Z_varNo3_btag_score'].SetFillColor(432)\n",
    "\n",
    "hs.Add(histo_dict['TT_CR_3b_Z_varNo3_btag_score'])\n",
    "histo_dict['TT_CR_3b_Z_varNo3_btag_score'].SetFillColor(600)\n",
    "\n",
    "hs.Add(histo_dict['DY_CR_3b_Z_varNo3_btag_score'])\n",
    "histo_dict['DY_CR_3b_Z_varNo3_btag_score'].SetFillColor(400)\n",
    "\n",
    "histo_dict['Data_CR_3b_Z_varNo3_btag_score'].SetMarkerSize()\n",
    "histo_dict['Data_CR_3b_Z_varNo3_btag_score'].SetMarkerStyle(20)\n",
    "histo_dict['Data_CR_3b_Z_varNo3_btag_score'].Sumw2()\n",
    "\n",
    "\n",
    "\n",
    "c = R.TCanvas()\n",
    "R.gStyle.SetOptStat(0000)\n",
    "hs.Draw('hist')\n",
    "histo_dict['Data_CR_3b_Z_varNo3_btag_score'].Draw('SAME')\n",
    "hs.Draw('histSAME')\n",
    "histo_dict['Data_CR_3b_Z_varNo3_btag_score'].Draw('SAME')\n",
    "c.Draw()"
   ]
  },
  {
   "cell_type": "code",
   "execution_count": 14,
   "id": "pursuant-function",
   "metadata": {},
   "outputs": [],
   "source": []
  },
  {
   "cell_type": "code",
   "execution_count": 6,
   "id": "convinced-characteristic",
   "metadata": {},
   "outputs": [],
   "source": [
    "f_hist_out_TT = R.TFile('Histo_for_No3_btag_score_TT.root' ,'RECREATE')"
   ]
  },
  {
   "cell_type": "code",
   "execution_count": 7,
   "id": "sorted-hypothetical",
   "metadata": {},
   "outputs": [],
   "source": [
    "for _sample in sample_list:\n",
    "    model = R.RDF.TH1DModel(_sample+'_SB_2b_Z_var'+'No3_btag_score','No3_btag_score', 15, 0, 1)\n",
    "    histo_dict[_sample+'_SB_2b_Z_var'] = rdf_dict[_sample+'_SB_2b'].Filter('isZee||isZmm')\\\n",
    "    .Filter('V_mass<75 || V_mass>105')\\\n",
    "    .Histo1D(model,'No3_btag_score','weight')\n",
    "    \n",
    "    model = R.RDF.TH1DModel(_sample+'_SB_3b_Z_var'+'No3_btag_score','No3_btag_score', 15, 0, 1)\n",
    "    histo_dict[_sample+'_SB_3b_Z_var'] = rdf_dict[_sample+'_SB_3b'].Filter('isZee||isZmm')\\\n",
    "    .Filter('V_mass<75 || V_mass>105')\\\n",
    "    .Histo1D(model,'No3_btag_score','weight')\n",
    "    \n",
    "    model = R.RDF.TH1DModel(_sample+'_SB_4b_Z_var'+'No3_btag_score','No3_btag_score', 15, 0, 1)\n",
    "    histo_dict[_sample+'_SB_4b_Z_var'] = rdf_dict[_sample+'_SB_4b'].Filter('isZee||isZmm')\\\n",
    "    .Filter('V_mass<75 || V_mass>105')\\\n",
    "    .Histo1D(model,'No3_btag_score','weight')\n",
    "    \n",
    "    histo_dict[_sample+'_SB_2b_Z_var'].Write()\n",
    "    histo_dict[_sample+'_SB_3b_Z_var'].Write()\n",
    "    histo_dict[_sample+'_SB_4b_Z_var'].Write()\n",
    "    \n",
    "    \n",
    "    model = R.RDF.TH1DModel(_sample+'_CR_2b_Z_var'+'No3_btag_score','No3_btag_score', 15, 0, 1)\n",
    "    histo_dict[_sample+'_CR_2b_Z_var'] = rdf_dict[_sample+'_CR_2b'].Filter('isZee||isZmm')\\\n",
    "    .Filter('V_mass<75 || V_mass>105')\\\n",
    "    .Histo1D(model,'No3_btag_score','weight')\n",
    "    \n",
    "    model = R.RDF.TH1DModel(_sample+'_CR_3b_Z_var'+'No3_btag_score','No3_btag_score', 15, 0, 1)\n",
    "    histo_dict[_sample+'_CR_3b_Z_var'] = rdf_dict[_sample+'_CR_3b'].Filter('isZee||isZmm')\\\n",
    "    .Filter('V_mass<75 || V_mass>105')\\\n",
    "    .Histo1D(model,'No3_btag_score','weight')\n",
    "    \n",
    "    model = R.RDF.TH1DModel(_sample+'_CR_4b_Z_var'+'No3_btag_score','No3_btag_score', 15, 0, 1)\n",
    "    histo_dict[_sample+'_CR_4b_Z_var'] = rdf_dict[_sample+'_CR_4b'].Filter('isZee||isZmm')\\\n",
    "    .Filter('V_mass<75 || V_mass>105')\\\n",
    "    .Histo1D(model,'No3_btag_score','weight')\n",
    "    \n",
    "    histo_dict[_sample+'_CR_2b_Z_var'].Write()\n",
    "    histo_dict[_sample+'_CR_3b_Z_var'].Write()\n",
    "    histo_dict[_sample+'_CR_4b_Z_var'].Write()\n",
    "    \n",
    "    model = R.RDF.TH1DModel(_sample+'_SR_2b_Z_var'+'No3_btag_score','No3_btag_score', 15, 0, 1)\n",
    "    histo_dict[_sample+'_SR_2b_Z_var'] = rdf_dict[_sample+'_SR_2b'].Filter('isZee||isZmm')\\\n",
    "    .Filter('V_mass<75 || V_mass>105')\\\n",
    "    .Histo1D(model,'No3_btag_score','weight')\n",
    "    \n",
    "    model = R.RDF.TH1DModel(_sample+'_SR_3b_Z_var'+'No3_btag_score','No3_btag_score', 15, 0, 1)\n",
    "    histo_dict[_sample+'_SR_3b_Z_var'] = rdf_dict[_sample+'_SR_3b'].Filter('isZee||isZmm')\\\n",
    "    .Filter('V_mass<75 || V_mass>105')\\\n",
    "    .Histo1D(model,'No3_btag_score','weight')\n",
    "    \n",
    "    model = R.RDF.TH1DModel(_sample+'_SR_4b_Z_var'+'No3_btag_score','No3_btag_score', 15, 0, 1)\n",
    "    histo_dict[_sample+'_SR_4b_Z_var'] = rdf_dict[_sample+'_SR_4b'].Filter('isZee||isZmm')\\\n",
    "    .Filter('V_mass<75 || V_mass>105')\\\n",
    "    .Histo1D(model,'No3_btag_score','weight')\n",
    "    \n",
    "    histo_dict[_sample+'_SR_2b_Z_var'].Write()\n",
    "    histo_dict[_sample+'_SR_3b_Z_var'].Write()\n",
    "    histo_dict[_sample+'_SR_4b_Z_var'].Write()\n",
    "#END"
   ]
  },
  {
   "cell_type": "code",
   "execution_count": 8,
   "id": "unexpected-messenger",
   "metadata": {},
   "outputs": [],
   "source": [
    "f_hist_out_TT.Close()"
   ]
  },
  {
   "cell_type": "code",
   "execution_count": 9,
   "id": "naughty-stand",
   "metadata": {},
   "outputs": [],
   "source": [
    "f_hist_in_TT = R.TFile('Histo_for_No3_btag_score_TT.root','READ')"
   ]
  },
  {
   "cell_type": "code",
   "execution_count": 10,
   "id": "artificial-creativity",
   "metadata": {},
   "outputs": [],
   "source": [
    "histo_dict  = {}\n",
    "keys = f_hist_in_TT.GetListOfKeys()\n",
    "for key in keys:\n",
    "    histo_dict[key.ReadObj().GetName()] = f_hist_in_TT.Get(key.ReadObj().GetName())\n",
    "#     print(key.ReadObj().GetName())"
   ]
  },
  {
   "cell_type": "code",
   "execution_count": 11,
   "id": "honest-brooks",
   "metadata": {},
   "outputs": [
    {
     "data": {
      "image/png": "[encoded data removed]",
      "text/plain": [
       "<IPython.core.display.Image object>"
      ]
     },
     "metadata": {},
     "output_type": "display_data"
    }
   ],
   "source": [
    "hs = R.THStack(\"stack\",\"No3_btag_score\")\n",
    "\n",
    "hs.Add(histo_dict['Other_SB_2b_Z_varNo3_btag_score'])\n",
    "histo_dict['Other_SB_2b_Z_varNo3_btag_score'].SetFillColor(800)\n",
    "\n",
    "hs.Add(histo_dict['ttbb_SB_2b_Z_varNo3_btag_score'])\n",
    "histo_dict['ttbb_SB_2b_Z_varNo3_btag_score'].SetFillColor(432)\n",
    "\n",
    "hs.Add(histo_dict['TT_SB_2b_Z_varNo3_btag_score'])\n",
    "histo_dict['TT_SB_2b_Z_varNo3_btag_score'].SetFillColor(600)\n",
    "\n",
    "hs.Add(histo_dict['DY_SB_2b_Z_varNo3_btag_score'])\n",
    "histo_dict['DY_SB_2b_Z_varNo3_btag_score'].SetFillColor(400)\n",
    "\n",
    "histo_dict['Data_SB_2b_Z_varNo3_btag_score'].SetMarkerSize(1)\n",
    "histo_dict['Data_SB_2b_Z_varNo3_btag_score'].SetMarkerStyle(20)\n",
    "histo_dict['Data_SB_2b_Z_varNo3_btag_score'].Sumw2()\n",
    "\n",
    "c = R.TCanvas()\n",
    "R.gStyle.SetOptStat(0000)\n",
    "hs.Draw('hist')\n",
    "histo_dict['Data_SB_2b_Z_varNo3_btag_score'].Draw('SAME')\n",
    "hs.Draw('histSAME')\n",
    "histo_dict['Data_SB_2b_Z_varNo3_btag_score'].Draw('SAME')\n",
    "c.Draw()"
   ]
  },
  {
   "cell_type": "code",
   "execution_count": 12,
   "id": "judicial-inspiration",
   "metadata": {},
   "outputs": [
    {
     "name": "stderr",
     "output_type": "stream",
     "text": [
      "Warning in <TH1D::Sumw2>: Sum of squares of weights structure already created\n"
     ]
    },
    {
     "data": {
      "image/png": "[encoded data removed]",
      "text/plain": [
       "<IPython.core.display.Image object>"
      ]
     },
     "metadata": {},
     "output_type": "display_data"
    }
   ],
   "source": [
    "hs = R.THStack(\"stack\",\"No3_btag_score\")\n",
    "\n",
    "# hs.Add(histo_dict['Other_SB_2b_Z_varNo3_btag_score'])\n",
    "# histo_dict['Other_SB_2b_Z_varNo3_btag_score'].SetFillColor(800)\n",
    "\n",
    "hs.Add(histo_dict['ttbb_SB_2b_Z_varNo3_btag_score'])\n",
    "histo_dict['ttbb_SB_2b_Z_varNo3_btag_score'].SetFillColor(432)\n",
    "\n",
    "hs.Add(histo_dict['TT_SB_2b_Z_varNo3_btag_score'])\n",
    "histo_dict['TT_SB_2b_Z_varNo3_btag_score'].SetFillColor(600)\n",
    "\n",
    "# hs.Add(histo_dict['DY_SB_2b_Z_varNo3_btag_score'])\n",
    "# histo_dict['DY_SB_2b_Z_varNo3_btag_score'].SetFillColor(400)\n",
    "\n",
    "\n",
    "histo_dict['Data_SB_2b_Z_varNo3_btag_score'] \\\n",
    "= histo_dict['Data_SB_2b_Z_varNo3_btag_score'] \\\n",
    "- histo_dict['DY_SB_2b_Z_varNo3_btag_score'] - histo_dict['Other_SB_2b_Z_varNo3_btag_score']\n",
    "histo_dict['Data_SB_2b_Z_varNo3_btag_score'].SetMarkerSize(1)\n",
    "histo_dict['Data_SB_2b_Z_varNo3_btag_score'].SetMarkerStyle(20)\n",
    "histo_dict['Data_SB_2b_Z_varNo3_btag_score'].Sumw2()\n",
    "\n",
    "c = R.TCanvas()\n",
    "R.gStyle.SetOptStat(0000)\n",
    "hs.Draw('hist')\n",
    "histo_dict['Data_SB_2b_Z_varNo3_btag_score'].Draw('SAME')\n",
    "hs.Draw('histSAME')\n",
    "histo_dict['Data_SB_2b_Z_varNo3_btag_score'].Draw('SAME')\n",
    "c.Draw()"
   ]
  },
  {
   "cell_type": "code",
   "execution_count": 13,
   "id": "silent-registrar",
   "metadata": {},
   "outputs": [
    {
     "name": "stdout",
     "output_type": "stream",
     "text": [
      "fit status: \n",
      "****************************************\n",
      "Minimizer is Minuit / Migrad\n",
      "MinFCN                    =      -404862\n",
      "NDf                       =            0\n",
      "Edm                       =  7.91253e-06\n",
      "NCalls                    =          100\n",
      "frac0                     =      0.21801   +/-   0.0295604   \n",
      "frac1                     =     0.782019   +/-   0.0296235    \t (limited)\n",
      "\n",
      " **********\n",
      " **    1 **SET PRINT           0\n",
      " **********\n",
      " **********\n",
      " **    2 **SET NOGRAD\n",
      " **********\n",
      " PARAMETER DEFINITIONS:\n",
      "    NO.   NAME         VALUE      STEP SIZE      LIMITS\n",
      "     1 frac0        5.00000e-01  1.00000e-02     no limits\n",
      "     2 frac1        5.00000e-01  1.00000e-02    0.00000e+00  1.00000e+00\n",
      " **********\n",
      " **    3 **SET ERR         0.5\n",
      " **********\n",
      " **********\n",
      " **    4 **SET PRINT           0\n",
      " **********\n",
      " **********\n",
      " **    5 **SET STR           1\n",
      " **********\n",
      " **********\n",
      " **    6 **MIGRAD        1220        0.01\n",
      " **********\n",
      " MACHINE ACCURACY LIMITS FURTHER IMPROVEMENT.\n",
      " MIGRAD MINIMIZATION HAS CONVERGED.\n",
      " MIGRAD WILL VERIFY CONVERGENCE AND ERROR MATRIX.\n",
      " FCN=-404862 FROM MIGRAD    STATUS=CONVERGED      99 CALLS         100 TOTAL\n",
      "                     EDM=7.91253e-06    STRATEGY= 1      ERROR MATRIX ACCURATE \n",
      "  EXT PARAMETER                                   STEP         FIRST   \n",
      "  NO.   NAME      VALUE            ERROR          SIZE      DERIVATIVE \n",
      "   1  frac0        2.18010e-01   2.95604e-02   4.47211e-03   2.74456e-01\n",
      "   2  frac1        7.82019e-01   2.96235e-02   1.08641e-02   1.10665e-01\n",
      "                               ERR DEF= 0.5\n"
     ]
    },
    {
     "data": {
      "image/png": "[encoded data removed]",
      "text/plain": [
       "<IPython.core.display.Image object>"
      ]
     },
     "metadata": {},
     "output_type": "display_data"
    }
   ],
   "source": [
    "mc = R.TObjArray(2)\n",
    "mc.Add(histo_dict['ttbb_SB_2b_Z_varNo3_btag_score'])\n",
    "mc.Add(histo_dict['TT_SB_2b_Z_varNo3_btag_score'])\n",
    "data = histo_dict['Data_SB_2b_Z_varNo3_btag_score']\n",
    "fit = R.TFractionFitter(data, mc)\n",
    "fit.Constrain(1,0.0,1.0)\n",
    "fit.SetRangeX(1,15)\n",
    "status = fit.Fit()\n",
    "print(\"fit status: \"+str(status))\n",
    "if status == 0:\n",
    "    result = fit.GetPlot()\n",
    "    c = R.TCanvas()\n",
    "    R.gStyle.SetOptStat(0000)\n",
    "    data.Draw(\"Ep\")\n",
    "    result.Draw(\"same\")\n",
    "    c.Draw()"
   ]
  },
  {
   "cell_type": "code",
   "execution_count": 14,
   "id": "unsigned-strength",
   "metadata": {},
   "outputs": [],
   "source": [
    "histo_dict  = {}\n",
    "keys = f_hist_in_TT.GetListOfKeys()\n",
    "for key in keys:\n",
    "    histo_dict[key.ReadObj().GetName()] = f_hist_in_TT.Get(key.ReadObj().GetName())\n",
    "#     print(key.ReadObj().GetName())"
   ]
  },
  {
   "cell_type": "code",
   "execution_count": 15,
   "id": "ready-fifth",
   "metadata": {},
   "outputs": [
    {
     "name": "stderr",
     "output_type": "stream",
     "text": [
      "Warning in <TH1D::Sumw2>: Sum of squares of weights structure already created\n"
     ]
    },
    {
     "data": {
      "image/png": "[encoded data removed]",
      "text/plain": [
       "<IPython.core.display.Image object>"
      ]
     },
     "metadata": {},
     "output_type": "display_data"
    }
   ],
   "source": [
    "hs = R.THStack(\"stack\",\"No3_btag_score\")\n",
    "\n",
    "hs.Add(histo_dict['Other_SB_2b_Z_varNo3_btag_score'])\n",
    "histo_dict['Other_SB_2b_Z_varNo3_btag_score'].SetFillColor(800)\n",
    "\n",
    "hs.Add(histo_dict['ttbb_SB_2b_Z_varNo3_btag_score']*2.18009e-01)\n",
    "histo_dict['ttbb_SB_2b_Z_varNo3_btag_score'].SetFillColor(432)\n",
    "\n",
    "hs.Add(histo_dict['TT_SB_2b_Z_varNo3_btag_score']*7.82019e-01)\n",
    "histo_dict['TT_SB_2b_Z_varNo3_btag_score'].SetFillColor(600)\n",
    "\n",
    "hs.Add(histo_dict['DY_SB_2b_Z_varNo3_btag_score'])\n",
    "histo_dict['DY_SB_2b_Z_varNo3_btag_score'].SetFillColor(400)\n",
    "\n",
    "histo_dict['Data_SB_2b_Z_varNo3_btag_score'].SetMarkerSize(1)\n",
    "histo_dict['Data_SB_2b_Z_varNo3_btag_score'].SetMarkerStyle(20)\n",
    "histo_dict['Data_SB_2b_Z_varNo3_btag_score'].Sumw2()\n",
    "\n",
    "c = R.TCanvas()\n",
    "R.gStyle.SetOptStat(0000)\n",
    "hs.Draw('hist')\n",
    "histo_dict['Data_SB_2b_Z_varNo3_btag_score'].Draw('SAME')\n",
    "hs.Draw('histSAME')\n",
    "histo_dict['Data_SB_2b_Z_varNo3_btag_score'].Draw('SAME')\n",
    "c.Draw()"
   ]
  },
  {
   "cell_type": "code",
   "execution_count": 69,
   "id": "dying-pharmacology",
   "metadata": {},
   "outputs": [],
   "source": [
    "histo_dict  = {}\n",
    "keys = f_hist_in_TT.GetListOfKeys()\n",
    "for key in keys:\n",
    "    histo_dict[key.ReadObj().GetName()] = f_hist_in_TT.Get(key.ReadObj().GetName())\n",
    "#     print(key.ReadObj().GetName())"
   ]
  },
  {
   "cell_type": "code",
   "execution_count": 70,
   "id": "powerful-console",
   "metadata": {},
   "outputs": [
    {
     "name": "stderr",
     "output_type": "stream",
     "text": [
      "Warning in <TH1D::Sumw2>: Sum of squares of weights structure already created\n"
     ]
    },
    {
     "data": {
      "image/png": "[encoded data removed]",
      "text/plain": [
       "<IPython.core.display.Image object>"
      ]
     },
     "metadata": {},
     "output_type": "display_data"
    }
   ],
   "source": [
    "hs = R.THStack(\"stack\",\"No3_btag_score\")\n",
    "\n",
    "hs.Add(histo_dict['Other_SB_3b_Z_varNo3_btag_score'])\n",
    "histo_dict['Other_SB_3b_Z_varNo3_btag_score'].SetFillColor(800)\n",
    "\n",
    "hs.Add(histo_dict['ttbb_SB_3b_Z_varNo3_btag_score'])\n",
    "histo_dict['ttbb_SB_3b_Z_varNo3_btag_score'].SetFillColor(432)\n",
    "\n",
    "hs.Add(histo_dict['TT_SB_3b_Z_varNo3_btag_score'])\n",
    "histo_dict['TT_SB_3b_Z_varNo3_btag_score'].SetFillColor(600)\n",
    "\n",
    "hs.Add(histo_dict['DY_SB_3b_Z_varNo3_btag_score'])\n",
    "histo_dict['DY_SB_3b_Z_varNo3_btag_score'].SetFillColor(400)\n",
    "\n",
    "histo_dict['Data_SB_3b_Z_varNo3_btag_score'].SetMarkerSize(1)\n",
    "histo_dict['Data_SB_3b_Z_varNo3_btag_score'].SetMarkerStyle(20)\n",
    "histo_dict['Data_SB_3b_Z_varNo3_btag_score'].Sumw2()\n",
    "\n",
    "c = R.TCanvas()\n",
    "R.gStyle.SetOptStat(0000)\n",
    "hs.Draw('hist')\n",
    "histo_dict['Data_SB_3b_Z_varNo3_btag_score'].Draw('SAME')\n",
    "hs.Draw('histSAME')\n",
    "histo_dict['Data_SB_3b_Z_varNo3_btag_score'].Draw('SAME')\n",
    "c.Draw()"
   ]
  },
  {
   "cell_type": "code",
   "execution_count": 71,
   "id": "stopped-prior",
   "metadata": {},
   "outputs": [
    {
     "name": "stderr",
     "output_type": "stream",
     "text": [
      "Warning in <TH1D::Sumw2>: Sum of squares of weights structure already created\n"
     ]
    },
    {
     "data": {
      "image/png": "[encoded data removed]",
      "text/plain": [
       "<IPython.core.display.Image object>"
      ]
     },
     "metadata": {},
     "output_type": "display_data"
    }
   ],
   "source": [
    "hs = R.THStack(\"stack\",\"No3_btag_score\")\n",
    "\n",
    "# hs.Add(histo_dict['Other_SB_3b_Z_varNo3_btag_score'])\n",
    "# histo_dict['Other_SB_3b_Z_varNo3_btag_score'].SetFillColor(800)\n",
    "\n",
    "hs.Add(histo_dict['ttbb_SB_3b_Z_varNo3_btag_score'])\n",
    "histo_dict['ttbb_SB_3b_Z_varNo3_btag_score'].SetFillColor(432)\n",
    "\n",
    "hs.Add(histo_dict['TT_SB_3b_Z_varNo3_btag_score'])\n",
    "histo_dict['TT_SB_3b_Z_varNo3_btag_score'].SetFillColor(600)\n",
    "\n",
    "# hs.Add(histo_dict['DY_SB_3b_Z_varNo3_btag_score'])\n",
    "# histo_dict['DY_SB_3b_Z_varNo3_btag_score'].SetFillColor(400)\n",
    "\n",
    "histo_dict['Data_SB_3b_Z_varNo3_btag_score'] \\\n",
    "= histo_dict['Data_SB_3b_Z_varNo3_btag_score'] \\\n",
    "- histo_dict['DY_SB_3b_Z_varNo3_btag_score'] - histo_dict['Other_SB_3b_Z_varNo3_btag_score']\n",
    "\n",
    "\n",
    "\n",
    "histo_dict['Data_SB_3b_Z_varNo3_btag_score'].SetMarkerSize(1)\n",
    "histo_dict['Data_SB_3b_Z_varNo3_btag_score'].SetMarkerStyle(20)\n",
    "histo_dict['Data_SB_3b_Z_varNo3_btag_score'].Sumw2()\n",
    "\n",
    "c = R.TCanvas()\n",
    "R.gStyle.SetOptStat(0000)\n",
    "hs.Draw('hist')\n",
    "histo_dict['Data_SB_3b_Z_varNo3_btag_score'].Draw('SAME')\n",
    "hs.Draw('histSAME')\n",
    "histo_dict['Data_SB_3b_Z_varNo3_btag_score'].Draw('SAME')\n",
    "c.Draw()"
   ]
  },
  {
   "cell_type": "code",
   "execution_count": 72,
   "id": "supreme-classroom",
   "metadata": {},
   "outputs": [
    {
     "name": "stdout",
     "output_type": "stream",
     "text": [
      "fit status: \n",
      "****************************************\n",
      "Minimizer is Minuit / Migrad\n",
      "MinFCN                    =     -35157.6\n",
      "NDf                       =            0\n",
      "Edm                       =  2.01033e-09\n",
      "NCalls                    =           65\n",
      "ttbb                      =          0.7   +/-   0.00583405   \t (limited)\n",
      "frac1                     =     0.374032   +/-   0.031172    \n",
      "\n",
      " **********\n",
      " **   67 **SET PRINT           0\n",
      " **********\n",
      " **********\n",
      " **   68 **SET NOGRAD\n",
      " **********\n",
      " PARAMETER DEFINITIONS:\n",
      "    NO.   NAME         VALUE      STEP SIZE      LIMITS\n",
      "     1 ttbb         1.00000e+00  1.00000e-03    7.00000e-01  1.40000e+00\n",
      "     2 frac1        5.00000e-01  1.00000e-02     no limits\n",
      " **********\n",
      " **   69 **SET ERR         0.5\n",
      " **********\n",
      " **********\n",
      " **   70 **SET PRINT           0\n",
      " **********\n",
      " **********\n",
      " **   71 **SET STR           1\n",
      " **********\n",
      " **********\n",
      " **   72 **MIGRAD        1220        0.01\n",
      " **********\n",
      " MIGRAD MINIMIZATION HAS CONVERGED.\n",
      " MIGRAD WILL VERIFY CONVERGENCE AND ERROR MATRIX.\n",
      " FCN=-35157.6 FROM MIGRAD    STATUS=CONVERGED      64 CALLS          65 TOTAL\n",
      "                     EDM=2.01033e-09    STRATEGY= 1      ERROR MATRIX ACCURATE \n",
      "  EXT PARAMETER                                   STEP         FIRST   \n",
      "  NO.   NAME      VALUE            ERROR          SIZE      DERIVATIVE \n",
      "   1  ttbb         7.00000e-01   5.83405e-03   2.36596e-02** at limit **\n",
      "   2  frac1        3.74032e-01   3.11720e-02   4.03498e-03   6.02997e-04\n",
      "                               ERR DEF= 0.5\n"
     ]
    },
    {
     "data": {
      "image/png": "[encoded data removed]",
      "text/plain": [
       "<IPython.core.display.Image object>"
      ]
     },
     "metadata": {},
     "output_type": "display_data"
    }
   ],
   "source": [
    "mc = R.TObjArray(2)\n",
    "mc.Add(histo_dict['ttbb_SB_3b_Z_varNo3_btag_score'])\n",
    "mc.Add(histo_dict['TT_SB_3b_Z_varNo3_btag_score'])\n",
    "data = histo_dict['Data_SB_3b_Z_varNo3_btag_score']\n",
    "fit = R.TFractionFitter(data, mc)\n",
    "fitter = fit.GetFitter()\n",
    "fitter.Config().ParSettings(0).Set('ttbb', 1.0, 0.001, 0.70, 1.40)\n",
    "# fitter.Config().ParSettings(1).Set('TT', 1.0, 0.001, 0.30, 1.80)\n",
    "\n",
    "# fit.Constrain(0,0.8,1.2)\n",
    "# fit.Constrain(1,0.1,2.0)\n",
    "fit.SetRangeX(5,15)\n",
    "status = fit.Fit()\n",
    "print(\"fit status: \"+str(status))\n",
    "if status == 0:\n",
    "    result = fit.GetPlot()\n",
    "    c = R.TCanvas()\n",
    "    R.gStyle.SetOptStat(0000)\n",
    "    data.Draw(\"Ep\")\n",
    "    result.Draw(\"same\")\n",
    "    c.Draw()"
   ]
  },
  {
   "cell_type": "code",
   "execution_count": 73,
   "id": "protective-press",
   "metadata": {},
   "outputs": [],
   "source": [
    "histo_dict  = {}\n",
    "keys = f_hist_in_TT.GetListOfKeys()\n",
    "for key in keys:\n",
    "    histo_dict[key.ReadObj().GetName()] = f_hist_in_TT.Get(key.ReadObj().GetName())\n",
    "#     print(key.ReadObj().GetName())"
   ]
  },
  {
   "cell_type": "code",
   "execution_count": 79,
   "id": "designing-server",
   "metadata": {},
   "outputs": [
    {
     "name": "stderr",
     "output_type": "stream",
     "text": [
      "Warning in <TH1D::Sumw2>: Sum of squares of weights structure already created\n"
     ]
    },
    {
     "data": {
      "image/png": "[encoded data removed]",
      "text/plain": [
       "<IPython.core.display.Image object>"
      ]
     },
     "metadata": {},
     "output_type": "display_data"
    }
   ],
   "source": [
    "hs = R.THStack(\"stack\",\"No3_btag_score\")\n",
    "\n",
    "hs.Add(histo_dict['Other_SB_3b_Z_varNo3_btag_score'])\n",
    "histo_dict['Other_SB_3b_Z_varNo3_btag_score'].SetFillColor(800)\n",
    "\n",
    "hs.Add(histo_dict['ttbb_SB_3b_Z_varNo3_btag_score']*6.58000e-01)\n",
    "histo_dict['ttbb_SB_3b_Z_varNo3_btag_score'].SetFillColor(432)\n",
    "\n",
    "hs.Add(histo_dict['TT_SB_3b_Z_varNo3_btag_score']*8.94032e-01)\n",
    "histo_dict['TT_SB_3b_Z_varNo3_btag_score'].SetFillColor(600)\n",
    "\n",
    "hs.Add(histo_dict['DY_SB_3b_Z_varNo3_btag_score'])\n",
    "histo_dict['DY_SB_3b_Z_varNo3_btag_score'].SetFillColor(400)\n",
    "\n",
    "histo_dict['Data_SB_3b_Z_varNo3_btag_score'].SetMarkerSize(1)\n",
    "histo_dict['Data_SB_3b_Z_varNo3_btag_score'].SetMarkerStyle(20)\n",
    "histo_dict['Data_SB_3b_Z_varNo3_btag_score'].Sumw2()\n",
    "\n",
    "c = R.TCanvas()\n",
    "R.gStyle.SetOptStat(0000)\n",
    "hs.Draw('hist')\n",
    "histo_dict['Data_SB_3b_Z_varNo3_btag_score'].Draw('SAME')\n",
    "hs.Draw('histSAME')\n",
    "histo_dict['Data_SB_3b_Z_varNo3_btag_score'].Draw('SAME')\n",
    "c.Draw()"
   ]
  },
  {
   "cell_type": "code",
   "execution_count": 47,
   "id": "exterior-deputy",
   "metadata": {},
   "outputs": [
    {
     "data": {
      "image/png": "[encoded data removed]",
      "text/plain": [
       "<IPython.core.display.Image object>"
      ]
     },
     "metadata": {},
     "output_type": "display_data"
    }
   ],
   "source": [
    "hs = R.THStack(\"stack\",\"No3_btag_score\")\n",
    "\n",
    "hs.Add(histo_dict['Other_SB_4b_Z_varNo3_btag_score'])\n",
    "histo_dict['Other_SB_4b_Z_varNo3_btag_score'].SetFillColor(800)\n",
    "\n",
    "hs.Add(histo_dict['ttbb_SB_4b_Z_varNo3_btag_score'])\n",
    "histo_dict['ttbb_SB_4b_Z_varNo3_btag_score'].SetFillColor(432)\n",
    "\n",
    "hs.Add(histo_dict['TT_SB_4b_Z_varNo3_btag_score'])\n",
    "histo_dict['TT_SB_4b_Z_varNo3_btag_score'].SetFillColor(600)\n",
    "\n",
    "hs.Add(histo_dict['DY_SB_4b_Z_varNo3_btag_score'])\n",
    "histo_dict['DY_SB_4b_Z_varNo3_btag_score'].SetFillColor(400)\n",
    "\n",
    "histo_dict['Data_SB_4b_Z_varNo3_btag_score'].SetMarkerSize(1)\n",
    "histo_dict['Data_SB_4b_Z_varNo3_btag_score'].SetMarkerStyle(20)\n",
    "histo_dict['Data_SB_4b_Z_varNo3_btag_score'].Sumw2()\n",
    "\n",
    "c = R.TCanvas()\n",
    "R.gStyle.SetOptStat(0000)\n",
    "hs.Draw('hist')\n",
    "histo_dict['Data_SB_4b_Z_varNo3_btag_score'].Draw('SAME')\n",
    "hs.Draw('histSAME')\n",
    "histo_dict['Data_SB_4b_Z_varNo3_btag_score'].Draw('SAME')\n",
    "c.Draw()"
   ]
  },
  {
   "cell_type": "code",
   "execution_count": null,
   "id": "functional-egypt",
   "metadata": {},
   "outputs": [],
   "source": []
  },
  {
   "cell_type": "code",
   "execution_count": null,
   "id": "interim-tours",
   "metadata": {},
   "outputs": [],
   "source": []
  },
  {
   "cell_type": "code",
   "execution_count": null,
   "id": "structured-yugoslavia",
   "metadata": {},
   "outputs": [],
   "source": []
  },
  {
   "cell_type": "code",
   "execution_count": 28,
   "id": "continuous-concern",
   "metadata": {},
   "outputs": [
    {
     "data": {
      "image/png": "[encoded data removed]",
      "text/plain": [
       "<IPython.core.display.Image object>"
      ]
     },
     "metadata": {},
     "output_type": "display_data"
    }
   ],
   "source": [
    "hs = R.THStack(\"stack\",\"No3_btag_score\")\n",
    "\n",
    "hs.Add(histo_dict['Other_CR_3b_Z_varNo3_btag_score'])\n",
    "histo_dict['Other_CR_3b_Z_varNo3_btag_score'].SetFillColor(800)\n",
    "\n",
    "hs.Add(histo_dict['ttbb_CR_3b_Z_varNo3_btag_score'])\n",
    "histo_dict['ttbb_CR_3b_Z_varNo3_btag_score'].SetFillColor(432)\n",
    "\n",
    "hs.Add(histo_dict['TT_CR_3b_Z_varNo3_btag_score'])\n",
    "histo_dict['TT_CR_3b_Z_varNo3_btag_score'].SetFillColor(600)\n",
    "\n",
    "hs.Add(histo_dict['DY_CR_3b_Z_varNo3_btag_score'])\n",
    "histo_dict['DY_CR_3b_Z_varNo3_btag_score'].SetFillColor(400)\n",
    "\n",
    "histo_dict['Data_CR_3b_Z_varNo3_btag_score'].SetMarkerSize()\n",
    "histo_dict['Data_CR_3b_Z_varNo3_btag_score'].SetMarkerStyle(20)\n",
    "histo_dict['Data_CR_3b_Z_varNo3_btag_score'].Sumw2()\n",
    "\n",
    "\n",
    "\n",
    "c = R.TCanvas()\n",
    "R.gStyle.SetOptStat(0000)\n",
    "hs.Draw('hist')\n",
    "histo_dict['Data_CR_3b_Z_varNo3_btag_score'].Draw('SAME')\n",
    "hs.Draw('histSAME')\n",
    "histo_dict['Data_CR_3b_Z_varNo3_btag_score'].Draw('SAME')\n",
    "c.Draw()"
   ]
  },
  {
   "cell_type": "code",
   "execution_count": null,
   "id": "freelance-protocol",
   "metadata": {},
   "outputs": [],
   "source": [
    "hs = R.THStack(\"stack\",\"No3_btag_score\")\n",
    "\n",
    "hs.Add(histo_dict['Other_CR_3b_Z_varNo3_btag_score'])\n",
    "histo_dict['Other_CR_3b_Z_varNo3_btag_score'].SetFillColor(800)\n",
    "\n",
    "hs.Add(histo_dict['ttbb_CR_3b_Z_varNo3_btag_score'])\n",
    "histo_dict['ttbb_CR_3b_Z_varNo3_btag_score'].SetFillColor(432)\n",
    "\n",
    "hs.Add(histo_dict['TT_CR_3b_Z_varNo3_btag_score'])\n",
    "histo_dict['TT_CR_3b_Z_varNo3_btag_score'].SetFillColor(600)\n",
    "\n",
    "hs.Add(histo_dict['DY_CR_3b_Z_varNo3_btag_score'])\n",
    "histo_dict['DY_CR_3b_Z_varNo3_btag_score'].SetFillColor(400)\n",
    "\n",
    "histo_dict['Data_CR_3b_Z_varNo3_btag_score'].SetMarkerSize()\n",
    "histo_dict['Data_CR_3b_Z_varNo3_btag_score'].SetMarkerStyle(20)\n",
    "histo_dict['Data_CR_3b_Z_varNo3_btag_score'].Sumw2()\n",
    "\n",
    "\n",
    "\n",
    "c = R.TCanvas()\n",
    "R.gStyle.SetOptStat(0000)\n",
    "hs.Draw('hist')\n",
    "histo_dict['Data_CR_3b_Z_varNo3_btag_score'].Draw('SAME')\n",
    "hs.Draw('histSAME')\n",
    "histo_dict['Data_CR_3b_Z_varNo3_btag_score'].Draw('SAME')\n",
    "c.Draw()"
   ]
  },
  {
   "cell_type": "code",
   "execution_count": null,
   "id": "korean-vampire",
   "metadata": {},
   "outputs": [],
   "source": [
    "hs = R.THStack(\"stack\",\"No3_btag_score\")\n",
    "\n",
    "hs.Add(histo_dict['Other_CR_4b_Z_varNo3_btag_score'])\n",
    "histo_dict['Other_CR_4b_Z_varNo3_btag_score'].SetFillColor(800)\n",
    "\n",
    "hs.Add(histo_dict['ttbb_CR_4b_Z_varNo3_btag_score'])\n",
    "histo_dict['ttbb_CR_4b_Z_varNo3_btag_score'].SetFillColor(432)\n",
    "\n",
    "hs.Add(histo_dict['TT_CR_4b_Z_varNo3_btag_score'])\n",
    "histo_dict['TT_CR_4b_Z_varNo3_btag_score'].SetFillColor(600)\n",
    "\n",
    "hs.Add(histo_dict['DY_CR_4b_Z_varNo3_btag_score'])\n",
    "histo_dict['DY_CR_4b_Z_varNo3_btag_score'].SetFillColor(400)\n",
    "\n",
    "histo_dict['Data_CR_4b_Z_varNo3_btag_score'].SetMarkerSize()\n",
    "histo_dict['Data_CR_4b_Z_varNo3_btag_score'].SetMarkerStyle(20)\n",
    "histo_dict['Data_CR_4b_Z_varNo3_btag_score'].Sumw2()\n",
    "\n",
    "\n",
    "\n",
    "c = R.TCanvas()\n",
    "R.gStyle.SetOptStat(0000)\n",
    "hs.Draw('hist')\n",
    "histo_dict['Data_CR_4b_Z_varNo3_btag_score'].Draw('SAME')\n",
    "hs.Draw('histSAME')\n",
    "histo_dict['Data_CR_4b_Z_varNo3_btag_score'].Draw('SAME')\n",
    "c.Draw()"
   ]
  },
  {
   "cell_type": "code",
   "execution_count": 22,
   "id": "classified-kidney",
   "metadata": {},
   "outputs": [],
   "source": [
    "f_hist_in_TT.Close()"
   ]
  },
  {
   "cell_type": "code",
   "execution_count": null,
   "id": "cardiovascular-latvia",
   "metadata": {},
   "outputs": [],
   "source": [
    "f_hist_in_Z.Close()"
   ]
  }
 ],
 "metadata": {
  "kernelspec": {
   "display_name": "my_ml_env",
   "language": "python",
   "name": "my_ml_env"
  },
  "language_info": {
   "codemirror_mode": {
    "name": "ipython",
    "version": 3
   },
   "file_extension": ".py",
   "mimetype": "text/x-python",
   "name": "python",
   "nbconvert_exporter": "python",
   "pygments_lexer": "ipython3",
   "version": "3.9.9"
  }
 },
 "nbformat": 4,
 "nbformat_minor": 5
}
