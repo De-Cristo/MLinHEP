{
 "cells": [
  {
   "cell_type": "code",
   "execution_count": 1,
   "id": "temporal-chapel",
   "metadata": {},
   "outputs": [
    {
     "name": "stderr",
     "output_type": "stream",
     "text": [
      "ERROR in cling::CIFactory::createCI(): cannot extract standard library include paths!\n",
      "Invoking:\n",
      "  LC_ALL=C x86_64-conda-linux-gnu-c++   -DNDEBUG -xc++ -E -v /dev/null 2>&1 | sed -n -e '/^.include/,${' -e '/^ \\/.*++/p' -e '}'\n",
      "Results was:\n",
      "With exit code 0\n"
     ]
    },
    {
     "name": "stdout",
     "output_type": "stream",
     "text": [
      "Welcome to JupyROOT 6.24/02\n"
     ]
    }
   ],
   "source": [
    "import ROOT as R\n",
    "from analysis_branch import *\n",
    "from util import *\n",
    "import ctypes"
   ]
  },
  {
   "cell_type": "code",
   "execution_count": 2,
   "id": "composite-budget",
   "metadata": {},
   "outputs": [],
   "source": [
    "R.EnableImplicitMT()"
   ]
  },
  {
   "cell_type": "code",
   "execution_count": 20,
   "id": "impaired-wrapping",
   "metadata": {},
   "outputs": [
    {
     "name": "stderr",
     "output_type": "stream",
     "text": [
      "Warning in <TROOT::Append>: Replacing existing TH1: test_bkg (Potential memory leak).\n",
      "Warning in <TROOT::Append>: Replacing existing TH1: test_sig (Potential memory leak).\n",
      "Warning in <TROOT::Append>: Replacing existing TH1: test_data (Potential memory leak).\n"
     ]
    }
   ],
   "source": [
    "# TESTING BLOCK 1\n",
    "\n",
    "test_bkg_hist = R.TH1F('test_bkg','test_bkg',2,0,2)\n",
    "test_sig_hist = R.TH1F('test_sig','test_sig',2,0,2)\n",
    "test_data_hist = R.TH1F('test_data','test_data',2,0,2)\n",
    "\n",
    "test_bkg_hist.SetBinContent(1,8000)\n",
    "test_bkg_hist.SetBinContent(2,5000)\n",
    "test_bkg_hist.SetFillColor(600)\n",
    "\n",
    "test_sig_hist.SetBinContent(1,2000)\n",
    "test_sig_hist.SetBinContent(2,1000)\n",
    "test_sig_hist.SetFillColor(400)\n",
    "\n",
    "test_data_hist.SetBinContent(1,11000)\n",
    "test_data_hist.SetBinContent(2,6000)\n",
    "test_data_hist.SetMarkerSize()\n",
    "test_data_hist.SetMarkerStyle(20)\n",
    "test_data_hist.Sumw2()\n",
    "\n",
    "hs = R.THStack(\"stack\",\"test\")\n",
    "hs.Add(test_bkg_hist)\n",
    "hs.Add(test_sig_hist)\n"
   ]
  },
  {
   "cell_type": "code",
   "execution_count": 21,
   "id": "ecological-frequency",
   "metadata": {},
   "outputs": [
    {
     "data": {
      "image/png": "[encoded data removed]",
      "text/plain": [
       "<IPython.core.display.Image object>"
      ]
     },
     "metadata": {},
     "output_type": "display_data"
    }
   ],
   "source": [
    "# TESTING BLOCK 2\n",
    "\n",
    "c = R.TCanvas()\n",
    "R.gStyle.SetOptStat(0000)\n",
    "hs.Draw('histo')\n",
    "test_data_hist.Draw('SAME')\n",
    "hs.Draw('SAME')\n",
    "test_data_hist.Draw('SAME')\n",
    "c.Draw()"
   ]
  },
  {
   "cell_type": "code",
   "execution_count": 22,
   "id": "featured-check",
   "metadata": {},
   "outputs": [
    {
     "name": "stdout",
     "output_type": "stream",
     "text": [
      "fit status: \n",
      "****************************************\n",
      "Minimizer is Minuit / Migrad\n",
      "MinFCN                    =      -258152\n",
      "NDf                       =            0\n",
      "Edm                       =  1.04671e-06\n",
      "NCalls                    =           72\n",
      "frac0                     =     0.617656   +/-   0.0754357   \n",
      "frac1                     =     0.382359   +/-   0.0751483   \n",
      "\n",
      " **********\n",
      " **   25 **SET PRINT           0\n",
      " **********\n",
      " **********\n",
      " **   26 **SET NOGRAD\n",
      " **********\n",
      " PARAMETER DEFINITIONS:\n",
      "    NO.   NAME         VALUE      STEP SIZE      LIMITS\n",
      "     1 frac0        5.00000e-01  1.00000e-02     no limits\n",
      "     2 frac1        5.00000e-01  1.00000e-02     no limits\n",
      " **********\n",
      " **   27 **SET ERR         0.5\n",
      " **********\n",
      " **********\n",
      " **   28 **SET PRINT           0\n",
      " **********\n",
      " **********\n",
      " **   29 **SET STR           1\n",
      " **********\n",
      " **********\n",
      " **   30 **MIGRAD        1220        0.01\n",
      " **********\n",
      " MACHINE ACCURACY LIMITS FURTHER IMPROVEMENT.\n",
      " MIGRAD MINIMIZATION HAS CONVERGED.\n",
      " MIGRAD WILL VERIFY CONVERGENCE AND ERROR MATRIX.\n",
      " FCN=-258152 FROM MIGRAD    STATUS=CONVERGED      71 CALLS          72 TOTAL\n",
      "                     EDM=1.04671e-06    STRATEGY= 1      ERROR MATRIX ACCURATE \n",
      "  EXT PARAMETER                                   STEP         FIRST   \n",
      "  NO.   NAME      VALUE            ERROR          SIZE      DERIVATIVE \n",
      "   1  frac0        6.17656e-01   7.54357e-02   4.92647e-03   7.24957e-02\n",
      "   2  frac1        3.82359e-01   7.51483e-02   4.90770e-03   7.28632e-02\n",
      "                               ERR DEF= 0.5\n"
     ]
    },
    {
     "data": {
      "image/png": "[encoded data removed]",
      "text/plain": [
       "<IPython.core.display.Image object>"
      ]
     },
     "metadata": {},
     "output_type": "display_data"
    }
   ],
   "source": [
    "# TESTING BLOCK 3\n",
    "\n",
    "mc = R.TObjArray(2)\n",
    "mc.Add(test_sig_hist)\n",
    "mc.Add(test_bkg_hist)\n",
    "data = test_data_hist\n",
    "fit = R.TFractionFitter(data, mc)\n",
    "# fit.Constrain(0,0.9,1.1)\n",
    "# fit.Constrain(1,0.9,1.1)\n",
    "fit.SetRangeX(1,2)\n",
    "status = fit.Fit()\n",
    "print(\"fit status: \"+str(status))\n",
    "if status == 0:\n",
    "    result = fit.GetPlot()\n",
    "    c = R.TCanvas()\n",
    "    R.gStyle.SetOptStat(0000)\n",
    "    data.Draw(\"Ep\")\n",
    "    result.Draw(\"same\")\n",
    "    c.Draw()\n",
    "\n",
    "SF_0 = ctypes.c_double(0.)\n",
    "ERR_0 = ctypes.c_double(0.)\n",
    "\n",
    "SF_1 = ctypes.c_double(0.)\n",
    "ERR_1 = ctypes.c_double(0.)\n",
    "\n",
    "fit.GetResult(0, SF_0, ERR_0)\n",
    "fit.GetResult(1, SF_1, ERR_1)"
   ]
  },
  {
   "cell_type": "code",
   "execution_count": 23,
   "id": "applicable-banking",
   "metadata": {},
   "outputs": [
    {
     "name": "stdout",
     "output_type": "stream",
     "text": [
      "3.5001015137435374\n",
      "0.5000084724209627\n"
     ]
    },
    {
     "data": {
      "image/png": "[encoded data removed]",
      "text/plain": [
       "<IPython.core.display.Image object>"
      ]
     },
     "metadata": {},
     "output_type": "display_data"
    }
   ],
   "source": [
    "# TESTING BLOCK 4\n",
    "# del test_bkg_hist\n",
    "# del test_sig_hist\n",
    "# del hs\n",
    "# del c\n",
    "\n",
    "test_sig_hist_new = fit.GetMCPrediction(0)\n",
    "test_bkg_hist_new = fit.GetMCPrediction(1)\n",
    "print(SF_0.value * test_data_hist.Integral()/test_sig_hist_new.Integral())\n",
    "print(SF_1.value * test_data_hist.Integral()/test_bkg_hist_new.Integral())\n",
    "test_sig_hist_new.Scale(SF_0.value * test_data_hist.Integral()/test_sig_hist_new.Integral())\n",
    "test_bkg_hist_new.Scale(SF_1.value * test_data_hist.Integral()/test_bkg_hist_new.Integral())\n",
    "\n",
    "test_bkg_hist_new.SetFillColor(600)\n",
    "test_sig_hist_new.SetFillColor(400)\n",
    "\n",
    "hs = R.THStack(\"stack\",\"test\")\n",
    "hs.Add(test_bkg_hist_new)\n",
    "hs.Add(test_sig_hist_new)\n",
    "\n",
    "c = R.TCanvas()\n",
    "R.gStyle.SetOptStat(0000)\n",
    "hs.Draw('hist')\n",
    "test_data_hist.Draw('SAME')\n",
    "hs.Draw('SAME')\n",
    "test_data_hist.Draw('SAME')\n",
    "c.Draw()"
   ]
  },
  {
   "cell_type": "code",
   "execution_count": 3,
   "id": "constitutional-manhattan",
   "metadata": {},
   "outputs": [],
   "source": [
    "norm_path = '/data/pubfs/zhanglic/workspace/VHH4bAnalysisNtuples/2022_Ntuple_v3/2018/'\n"
   ]
  },
  {
   "cell_type": "code",
   "execution_count": 4,
   "id": "persistent-input",
   "metadata": {},
   "outputs": [],
   "source": [
    "sample_list = ['Data','TT','TTBB','DY','Other']"
   ]
  },
  {
   "cell_type": "code",
   "execution_count": 5,
   "id": "passing-player",
   "metadata": {},
   "outputs": [],
   "source": [
    "for _sample in sample_list:\n",
    "    rdf_dict[_sample+'_SB_2b'] = R.RDataFrame('Events',norm_path+'/'+_sample+'_Zll_rHH_SB_two_btag.root')\n",
    "    rdf_dict[_sample+'_SB_3b'] = R.RDataFrame('Events',norm_path+'/'+_sample+'_Zll_rHH_SB_three_btag.root')\n",
    "    rdf_dict[_sample+'_SB_4b'] = R.RDataFrame('Events',norm_path+'/'+_sample+'_Zll_rHH_SB_four_btag.root')\n",
    "    rdf_dict[_sample+'_CR_2b'] = R.RDataFrame('Events',norm_path+'/'+_sample+'_Zll_rHH_CR_two_btag.root')\n",
    "    rdf_dict[_sample+'_CR_3b'] = R.RDataFrame('Events',norm_path+'/'+_sample+'_Zll_rHH_CR_three_btag.root')\n",
    "    rdf_dict[_sample+'_CR_4b'] = R.RDataFrame('Events',norm_path+'/'+_sample+'_Zll_rHH_CR_four_btag.root')\n",
    "    rdf_dict[_sample+'_SR_2b'] = R.RDataFrame('Events',norm_path+'/'+_sample+'_Zll_rHH_SR_two_btag.root')\n",
    "    rdf_dict[_sample+'_SR_3b'] = R.RDataFrame('Events',norm_path+'/'+_sample+'_Zll_rHH_SR_three_btag.root')\n",
    "    rdf_dict[_sample+'_SR_4b'] = R.RDataFrame('Events',norm_path+'/'+_sample+'_Zll_rHH_SR_four_btag.root')\n",
    "#END"
   ]
  },
  {
   "cell_type": "code",
   "execution_count": 6,
   "id": "billion-mexico",
   "metadata": {},
   "outputs": [],
   "source": [
    "model = R.RDF.TH1DModel('No3_btag_score', 'No3_btag_score', 10, 0.2, 1.0)"
   ]
  },
  {
   "cell_type": "code",
   "execution_count": 7,
   "id": "naval-diagram",
   "metadata": {},
   "outputs": [],
   "source": [
    "f_hist_out_Z = R.TFile('Histo_for_No3_btag_score_Z.root' ,'RECREATE')"
   ]
  },
  {
   "cell_type": "code",
   "execution_count": 8,
   "id": "passing-scientist",
   "metadata": {},
   "outputs": [
    {
     "ename": "KeyboardInterrupt",
     "evalue": "",
     "output_type": "error",
     "traceback": [
      "\u001b[0;31m---------------------------------------------------------------------------\u001b[0m",
      "\u001b[0;31mKeyboardInterrupt\u001b[0m                         Traceback (most recent call last)",
      "\u001b[0;32m/tmp/ipykernel_123189/4050451125.py\u001b[0m in \u001b[0;36m<module>\u001b[0;34m\u001b[0m\n\u001b[1;32m     11\u001b[0m \u001b[0;34m\u001b[0m\u001b[0m\n\u001b[1;32m     12\u001b[0m     \u001b[0mmodel\u001b[0m \u001b[0;34m=\u001b[0m \u001b[0mR\u001b[0m\u001b[0;34m.\u001b[0m\u001b[0mRDF\u001b[0m\u001b[0;34m.\u001b[0m\u001b[0mTH1DModel\u001b[0m\u001b[0;34m(\u001b[0m\u001b[0m_sample\u001b[0m\u001b[0;34m+\u001b[0m\u001b[0;34m'_SB_4b_Z_var'\u001b[0m\u001b[0;34m+\u001b[0m\u001b[0;34m'No3_btag_score'\u001b[0m\u001b[0;34m,\u001b[0m\u001b[0;34m'No3_btag_score'\u001b[0m\u001b[0;34m,\u001b[0m \u001b[0;36m20\u001b[0m\u001b[0;34m,\u001b[0m \u001b[0;36m0\u001b[0m\u001b[0;34m,\u001b[0m \u001b[0;36m1\u001b[0m\u001b[0;34m)\u001b[0m\u001b[0;34m\u001b[0m\u001b[0;34m\u001b[0m\u001b[0m\n\u001b[0;32m---> 13\u001b[0;31m     \u001b[0mhisto_dict\u001b[0m\u001b[0;34m[\u001b[0m\u001b[0m_sample\u001b[0m\u001b[0;34m+\u001b[0m\u001b[0;34m'_SB_4b_Z_var'\u001b[0m\u001b[0;34m]\u001b[0m \u001b[0;34m=\u001b[0m \u001b[0mrdf_dict\u001b[0m\u001b[0;34m[\u001b[0m\u001b[0m_sample\u001b[0m\u001b[0;34m+\u001b[0m\u001b[0;34m'_SB_4b'\u001b[0m\u001b[0;34m]\u001b[0m\u001b[0;34m.\u001b[0m\u001b[0mFilter\u001b[0m\u001b[0;34m(\u001b[0m\u001b[0;34m'isZee||isZmm'\u001b[0m\u001b[0;34m)\u001b[0m\u001b[0;31m\\\u001b[0m\u001b[0;34m\u001b[0m\u001b[0;34m\u001b[0m\u001b[0m\n\u001b[0m\u001b[1;32m     14\u001b[0m     \u001b[0;34m.\u001b[0m\u001b[0mFilter\u001b[0m\u001b[0;34m(\u001b[0m\u001b[0;34m'V_mass>75 && V_mass<105'\u001b[0m\u001b[0;34m)\u001b[0m\u001b[0;31m\\\u001b[0m\u001b[0;34m\u001b[0m\u001b[0;34m\u001b[0m\u001b[0m\n\u001b[1;32m     15\u001b[0m     \u001b[0;34m.\u001b[0m\u001b[0mHisto1D\u001b[0m\u001b[0;34m(\u001b[0m\u001b[0mmodel\u001b[0m\u001b[0;34m,\u001b[0m\u001b[0;34m'No3_btag_score'\u001b[0m\u001b[0;34m,\u001b[0m\u001b[0;34m'weight'\u001b[0m\u001b[0;34m)\u001b[0m\u001b[0;34m\u001b[0m\u001b[0;34m\u001b[0m\u001b[0m\n",
      "\u001b[0;31mKeyboardInterrupt\u001b[0m: "
     ]
    }
   ],
   "source": [
    "for _sample in sample_list:\n",
    "    model = R.RDF.TH1DModel(_sample+'_SB_2b_Z_var'+'No3_btag_score','No3_btag_score', 20, 0, 1)\n",
    "    histo_dict[_sample+'_SB_2b_Z_var'] = rdf_dict[_sample+'_SB_2b'].Filter('isZee||isZmm')\\\n",
    "    .Filter('V_mass>75 && V_mass<105')\\\n",
    "    .Histo1D(model,'No3_btag_score','weight')\n",
    "    \n",
    "    model = R.RDF.TH1DModel(_sample+'_SB_3b_Z_var'+'No3_btag_score','No3_btag_score', 20, 0, 1)\n",
    "    histo_dict[_sample+'_SB_3b_Z_var'] = rdf_dict[_sample+'_SB_3b'].Filter('isZee||isZmm')\\\n",
    "    .Filter('V_mass>75 && V_mass<105')\\\n",
    "    .Histo1D(model,'No3_btag_score','weight')\n",
    "    \n",
    "    model = R.RDF.TH1DModel(_sample+'_SB_4b_Z_var'+'No3_btag_score','No3_btag_score', 20, 0, 1)\n",
    "    histo_dict[_sample+'_SB_4b_Z_var'] = rdf_dict[_sample+'_SB_4b'].Filter('isZee||isZmm')\\\n",
    "    .Filter('V_mass>75 && V_mass<105')\\\n",
    "    .Histo1D(model,'No3_btag_score','weight')\n",
    "    \n",
    "    histo_dict[_sample+'_SB_2b_Z_var'].Write()\n",
    "    histo_dict[_sample+'_SB_3b_Z_var'].Write()\n",
    "    histo_dict[_sample+'_SB_4b_Z_var'].Write()\n",
    "    \n",
    "    \n",
    "    model = R.RDF.TH1DModel(_sample+'_CR_2b_Z_var'+'No3_btag_score','No3_btag_score', 20, 0, 1)\n",
    "    histo_dict[_sample+'_CR_2b_Z_var'] = rdf_dict[_sample+'_CR_2b'].Filter('isZee||isZmm')\\\n",
    "    .Filter('V_mass>75 && V_mass<105')\\\n",
    "    .Histo1D(model,'No3_btag_score','weight')\n",
    "    \n",
    "    model = R.RDF.TH1DModel(_sample+'_CR_3b_Z_var'+'No3_btag_score','No3_btag_score', 20, 0, 1)\n",
    "    histo_dict[_sample+'_CR_3b_Z_var'] = rdf_dict[_sample+'_CR_3b'].Filter('isZee||isZmm')\\\n",
    "    .Filter('V_mass>75 && V_mass<105')\\\n",
    "    .Histo1D(model,'No3_btag_score','weight')\n",
    "    \n",
    "    model = R.RDF.TH1DModel(_sample+'_CR_4b_Z_var'+'No3_btag_score','No3_btag_score', 20, 0, 1)\n",
    "    histo_dict[_sample+'_CR_4b_Z_var'] = rdf_dict[_sample+'_CR_4b'].Filter('isZee||isZmm')\\\n",
    "    .Filter('V_mass>75 && V_mass<105')\\\n",
    "    .Histo1D(model,'No3_btag_score','weight')\n",
    "    \n",
    "    histo_dict[_sample+'_CR_2b_Z_var'].Write()\n",
    "    histo_dict[_sample+'_CR_3b_Z_var'].Write()\n",
    "    histo_dict[_sample+'_CR_4b_Z_var'].Write()\n",
    "    \n",
    "    model = R.RDF.TH1DModel(_sample+'_SR_2b_Z_var'+'No3_btag_score','No3_btag_score', 20, 0, 1)\n",
    "    histo_dict[_sample+'_SR_2b_Z_var'] = rdf_dict[_sample+'_SR_2b'].Filter('isZee||isZmm')\\\n",
    "    .Filter('V_mass>75 && V_mass<105')\\\n",
    "    .Histo1D(model,'No3_btag_score','weight')\n",
    "    \n",
    "    model = R.RDF.TH1DModel(_sample+'_SR_3b_Z_var'+'No3_btag_score','No3_btag_score', 20, 0, 1)\n",
    "    histo_dict[_sample+'_SR_3b_Z_var'] = rdf_dict[_sample+'_SR_3b'].Filter('isZee||isZmm')\\\n",
    "    .Filter('V_mass>75 && V_mass<105')\\\n",
    "    .Histo1D(model,'No3_btag_score','weight')\n",
    "    \n",
    "    model = R.RDF.TH1DModel(_sample+'_SR_4b_Z_var'+'No3_btag_score','No3_btag_score', 20, 0, 1)\n",
    "    histo_dict[_sample+'_SR_4b_Z_var'] = rdf_dict[_sample+'_SR_4b'].Filter('isZee||isZmm')\\\n",
    "    .Filter('V_mass>75 && V_mass<105')\\\n",
    "    .Histo1D(model,'No3_btag_score','weight')\n",
    "    \n",
    "    histo_dict[_sample+'_SR_2b_Z_var'].Write()\n",
    "    histo_dict[_sample+'_SR_3b_Z_var'].Write()\n",
    "    histo_dict[_sample+'_SR_4b_Z_var'].Write()\n",
    "#END"
   ]
  },
  {
   "cell_type": "code",
   "execution_count": null,
   "id": "smaller-kennedy",
   "metadata": {},
   "outputs": [],
   "source": [
    "f_hist_out_Z.Close()"
   ]
  },
  {
   "cell_type": "code",
   "execution_count": null,
   "id": "proved-shirt",
   "metadata": {},
   "outputs": [],
   "source": [
    "f_hist_in_Z = R.TFile('Histo_for_No3_btag_score_Z.root','READ')"
   ]
  },
  {
   "cell_type": "code",
   "execution_count": 17,
   "id": "offensive-funds",
   "metadata": {},
   "outputs": [],
   "source": [
    "histo_dict  = {}\n",
    "keys = f_hist_in_Z.GetListOfKeys()\n",
    "for key in keys:\n",
    "    histo_dict[key.ReadObj().GetName()] = f_hist_in_Z.Get(key.ReadObj().GetName())\n",
    "#     print(key.ReadObj().GetName())"
   ]
  },
  {
   "cell_type": "code",
   "execution_count": 18,
   "id": "blank-copyright",
   "metadata": {
    "tags": []
   },
   "outputs": [
    {
     "ename": "KeyError",
     "evalue": "'ttbb_SB_2b_Z_varNo3_btag_score'",
     "output_type": "error",
     "traceback": [
      "\u001b[0;31m---------------------------------------------------------------------------\u001b[0m",
      "\u001b[0;31mKeyError\u001b[0m                                  Traceback (most recent call last)",
      "\u001b[0;32m/tmp/ipykernel_3723974/2223697987.py\u001b[0m in \u001b[0;36m<module>\u001b[0;34m\u001b[0m\n\u001b[1;32m      4\u001b[0m \u001b[0mhisto_dict\u001b[0m\u001b[0;34m[\u001b[0m\u001b[0;34m'Other_SB_2b_Z_varNo3_btag_score'\u001b[0m\u001b[0;34m]\u001b[0m\u001b[0;34m.\u001b[0m\u001b[0mSetFillColor\u001b[0m\u001b[0;34m(\u001b[0m\u001b[0;36m800\u001b[0m\u001b[0;34m)\u001b[0m\u001b[0;34m\u001b[0m\u001b[0;34m\u001b[0m\u001b[0m\n\u001b[1;32m      5\u001b[0m \u001b[0;34m\u001b[0m\u001b[0m\n\u001b[0;32m----> 6\u001b[0;31m \u001b[0mhs\u001b[0m\u001b[0;34m.\u001b[0m\u001b[0mAdd\u001b[0m\u001b[0;34m(\u001b[0m\u001b[0mhisto_dict\u001b[0m\u001b[0;34m[\u001b[0m\u001b[0;34m'ttbb_SB_2b_Z_varNo3_btag_score'\u001b[0m\u001b[0;34m]\u001b[0m\u001b[0;34m)\u001b[0m\u001b[0;34m\u001b[0m\u001b[0;34m\u001b[0m\u001b[0m\n\u001b[0m\u001b[1;32m      7\u001b[0m \u001b[0mhisto_dict\u001b[0m\u001b[0;34m[\u001b[0m\u001b[0;34m'ttbb_SB_2b_Z_varNo3_btag_score'\u001b[0m\u001b[0;34m]\u001b[0m\u001b[0;34m.\u001b[0m\u001b[0mSetFillColor\u001b[0m\u001b[0;34m(\u001b[0m\u001b[0;36m432\u001b[0m\u001b[0;34m)\u001b[0m\u001b[0;34m\u001b[0m\u001b[0;34m\u001b[0m\u001b[0m\n\u001b[1;32m      8\u001b[0m \u001b[0;34m\u001b[0m\u001b[0m\n",
      "\u001b[0;31mKeyError\u001b[0m: 'ttbb_SB_2b_Z_varNo3_btag_score'"
     ]
    }
   ],
   "source": [
    "hs = R.THStack(\"stack\",\"No3_btag_score\")\n",
    "\n",
    "hs.Add(histo_dict['Other_SB_2b_Z_varNo3_btag_score'])\n",
    "histo_dict['Other_SB_2b_Z_varNo3_btag_score'].SetFillColor(800)\n",
    "\n",
    "hs.Add(histo_dict['ttbb_SB_2b_Z_varNo3_btag_score'])\n",
    "histo_dict['ttbb_SB_2b_Z_varNo3_btag_score'].SetFillColor(432)\n",
    "\n",
    "hs.Add(histo_dict['TT_SB_2b_Z_varNo3_btag_score'])\n",
    "histo_dict['TT_SB_2b_Z_varNo3_btag_score'].SetFillColor(600)\n",
    "\n",
    "hs.Add(histo_dict['DY_SB_2b_Z_varNo3_btag_score'])\n",
    "histo_dict['DY_SB_2b_Z_varNo3_btag_score'].SetFillColor(400)\n",
    "\n",
    "histo_dict['Data_SB_2b_Z_varNo3_btag_score'].SetMarkerSize()\n",
    "histo_dict['Data_SB_2b_Z_varNo3_btag_score'].SetMarkerStyle(20)\n",
    "histo_dict['Data_SB_2b_Z_varNo3_btag_score'].Sumw2()\n"
   ]
  },
  {
   "cell_type": "code",
   "execution_count": 19,
   "id": "roman-pattern",
   "metadata": {
    "tags": []
   },
   "outputs": [
    {
     "data": {
      "image/png": "[encoded data removed]",
      "text/plain": [
       "<IPython.core.display.Image object>"
      ]
     },
     "metadata": {},
     "output_type": "display_data"
    }
   ],
   "source": [
    "c = R.TCanvas()\n",
    "R.gStyle.SetOptStat(0000)\n",
    "hs.Draw('hist')\n",
    "histo_dict['Data_SB_2b_Z_varNo3_btag_score'].Draw('SAME')\n",
    "hs.Draw('histSAME')\n",
    "histo_dict['Data_SB_2b_Z_varNo3_btag_score'].Draw('SAME')\n",
    "c.Draw()"
   ]
  },
  {
   "cell_type": "code",
   "execution_count": 14,
   "id": "potential-nigeria",
   "metadata": {},
   "outputs": [],
   "source": [
    "hs = R.THStack(\"stack\",\"No3_btag_score\")\n",
    "\n",
    "hs.Add(histo_dict['Other_CR_2b_Z_varNo3_btag_score'])\n",
    "histo_dict['Other_CR_2b_Z_varNo3_btag_score'].SetFillColor(800)\n",
    "\n",
    "hs.Add(histo_dict['ttbb_CR_2b_Z_varNo3_btag_score'])\n",
    "histo_dict['ttbb_CR_2b_Z_varNo3_btag_score'].SetFillColor(432)\n",
    "\n",
    "hs.Add(histo_dict['TT_CR_2b_Z_varNo3_btag_score'])\n",
    "histo_dict['TT_CR_2b_Z_varNo3_btag_score'].SetFillColor(600)\n",
    "\n",
    "hs.Add(histo_dict['DY_CR_2b_Z_varNo3_btag_score'])\n",
    "histo_dict['DY_CR_2b_Z_varNo3_btag_score'].SetFillColor(400)\n",
    "\n",
    "histo_dict['Data_CR_2b_Z_varNo3_btag_score'].SetMarkerSize()\n",
    "histo_dict['Data_CR_2b_Z_varNo3_btag_score'].SetMarkerStyle(20)\n",
    "histo_dict['Data_CR_2b_Z_varNo3_btag_score'].Sumw2()"
   ]
  },
  {
   "cell_type": "code",
   "execution_count": 15,
   "id": "broken-coral",
   "metadata": {},
   "outputs": [
    {
     "data": {
      "image/png": "[encoded data removed]",
      "text/plain": [
       "<IPython.core.display.Image object>"
      ]
     },
     "metadata": {},
     "output_type": "display_data"
    }
   ],
   "source": [
    "c = R.TCanvas()\n",
    "R.gStyle.SetOptStat(0000)\n",
    "hs.Draw('hist')\n",
    "histo_dict['Data_CR_2b_Z_varNo3_btag_score'].Draw('SAME')\n",
    "hs.Draw('histSAME')\n",
    "histo_dict['Data_CR_2b_Z_varNo3_btag_score'].Draw('SAME')\n",
    "c.Draw()"
   ]
  },
  {
   "cell_type": "code",
   "execution_count": 32,
   "id": "neutral-simple",
   "metadata": {},
   "outputs": [
    {
     "data": {
      "image/png": "[encoded data removed]",
      "text/plain": [
       "<IPython.core.display.Image object>"
      ]
     },
     "metadata": {},
     "output_type": "display_data"
    }
   ],
   "source": [
    "hs = R.THStack(\"stack\",\"No3_btag_score\")\n",
    "\n",
    "hs.Add(histo_dict['Other_CR_3b_Z_varNo3_btag_score'])\n",
    "histo_dict['Other_CR_3b_Z_varNo3_btag_score'].SetFillColor(800)\n",
    "\n",
    "hs.Add(histo_dict['ttbb_CR_3b_Z_varNo3_btag_score'])\n",
    "histo_dict['ttbb_CR_3b_Z_varNo3_btag_score'].SetFillColor(432)\n",
    "\n",
    "hs.Add(histo_dict['TT_CR_3b_Z_varNo3_btag_score'])\n",
    "histo_dict['TT_CR_3b_Z_varNo3_btag_score'].SetFillColor(600)\n",
    "\n",
    "hs.Add(histo_dict['DY_CR_3b_Z_varNo3_btag_score'])\n",
    "histo_dict['DY_CR_3b_Z_varNo3_btag_score'].SetFillColor(400)\n",
    "\n",
    "histo_dict['Data_CR_3b_Z_varNo3_btag_score'].SetMarkerSize()\n",
    "histo_dict['Data_CR_3b_Z_varNo3_btag_score'].SetMarkerStyle(20)\n",
    "histo_dict['Data_CR_3b_Z_varNo3_btag_score'].Sumw2()\n",
    "\n",
    "\n",
    "\n",
    "c = R.TCanvas()\n",
    "R.gStyle.SetOptStat(0000)\n",
    "hs.Draw('hist')\n",
    "histo_dict['Data_CR_3b_Z_varNo3_btag_score'].Draw('SAME')\n",
    "hs.Draw('histSAME')\n",
    "histo_dict['Data_CR_3b_Z_varNo3_btag_score'].Draw('SAME')\n",
    "c.Draw()"
   ]
  },
  {
   "cell_type": "code",
   "execution_count": 14,
   "id": "dental-bhutan",
   "metadata": {},
   "outputs": [],
   "source": []
  },
  {
   "cell_type": "code",
   "execution_count": 7,
   "id": "oriental-logic",
   "metadata": {},
   "outputs": [],
   "source": [
    "f_hist_out_TT = R.TFile('Histo_for_No3_btag_score_TT.root' ,'RECREATE')"
   ]
  },
  {
   "cell_type": "code",
   "execution_count": 8,
   "id": "bearing-sapphire",
   "metadata": {},
   "outputs": [],
   "source": [
    "for _sample in sample_list:\n",
    "    model = R.RDF.TH1DModel(_sample+'_SB_2b_Z_var'+'No3_btag_score','No3_btag_score', 15, 0, 1)\n",
    "    histo_dict[_sample+'_SB_2b_Z_var'] = rdf_dict[_sample+'_SB_2b'].Filter('isZee||isZmm')\\\n",
    "    .Filter('V_mass<75 || V_mass>105')\\\n",
    "    .Histo1D(model,'No3_btag_score','weight')\n",
    "    \n",
    "    model = R.RDF.TH1DModel(_sample+'_SB_3b_Z_var'+'No3_btag_score','No3_btag_score', 15, 0, 1)\n",
    "    histo_dict[_sample+'_SB_3b_Z_var'] = rdf_dict[_sample+'_SB_3b'].Filter('isZee||isZmm')\\\n",
    "    .Filter('V_mass<75 || V_mass>105')\\\n",
    "    .Histo1D(model,'No3_btag_score','weight')\n",
    "    \n",
    "    model = R.RDF.TH1DModel(_sample+'_SB_4b_Z_var'+'No3_btag_score','No3_btag_score', 15, 0, 1)\n",
    "    histo_dict[_sample+'_SB_4b_Z_var'] = rdf_dict[_sample+'_SB_4b'].Filter('isZee||isZmm')\\\n",
    "    .Filter('V_mass<75 || V_mass>105')\\\n",
    "    .Histo1D(model,'No3_btag_score','weight')\n",
    "    \n",
    "    histo_dict[_sample+'_SB_2b_Z_var'].Write()\n",
    "    histo_dict[_sample+'_SB_3b_Z_var'].Write()\n",
    "    histo_dict[_sample+'_SB_4b_Z_var'].Write()\n",
    "    \n",
    "    \n",
    "    model = R.RDF.TH1DModel(_sample+'_CR_2b_Z_var'+'No3_btag_score','No3_btag_score', 15, 0, 1)\n",
    "    histo_dict[_sample+'_CR_2b_Z_var'] = rdf_dict[_sample+'_CR_2b'].Filter('isZee||isZmm')\\\n",
    "    .Filter('V_mass<75 || V_mass>105')\\\n",
    "    .Histo1D(model,'No3_btag_score','weight')\n",
    "    \n",
    "    model = R.RDF.TH1DModel(_sample+'_CR_3b_Z_var'+'No3_btag_score','No3_btag_score', 15, 0, 1)\n",
    "    histo_dict[_sample+'_CR_3b_Z_var'] = rdf_dict[_sample+'_CR_3b'].Filter('isZee||isZmm')\\\n",
    "    .Filter('V_mass<75 || V_mass>105')\\\n",
    "    .Histo1D(model,'No3_btag_score','weight')\n",
    "    \n",
    "    model = R.RDF.TH1DModel(_sample+'_CR_4b_Z_var'+'No3_btag_score','No3_btag_score', 15, 0, 1)\n",
    "    histo_dict[_sample+'_CR_4b_Z_var'] = rdf_dict[_sample+'_CR_4b'].Filter('isZee||isZmm')\\\n",
    "    .Filter('V_mass<75 || V_mass>105')\\\n",
    "    .Histo1D(model,'No3_btag_score','weight')\n",
    "    \n",
    "    histo_dict[_sample+'_CR_2b_Z_var'].Write()\n",
    "    histo_dict[_sample+'_CR_3b_Z_var'].Write()\n",
    "    histo_dict[_sample+'_CR_4b_Z_var'].Write()\n",
    "    \n",
    "    model = R.RDF.TH1DModel(_sample+'_SR_2b_Z_var'+'No3_btag_score','No3_btag_score', 15, 0, 1)\n",
    "    histo_dict[_sample+'_SR_2b_Z_var'] = rdf_dict[_sample+'_SR_2b'].Filter('isZee||isZmm')\\\n",
    "    .Filter('V_mass<75 || V_mass>105')\\\n",
    "    .Histo1D(model,'No3_btag_score','weight')\n",
    "    \n",
    "    model = R.RDF.TH1DModel(_sample+'_SR_3b_Z_var'+'No3_btag_score','No3_btag_score', 15, 0, 1)\n",
    "    histo_dict[_sample+'_SR_3b_Z_var'] = rdf_dict[_sample+'_SR_3b'].Filter('isZee||isZmm')\\\n",
    "    .Filter('V_mass<75 || V_mass>105')\\\n",
    "    .Histo1D(model,'No3_btag_score','weight')\n",
    "    \n",
    "    model = R.RDF.TH1DModel(_sample+'_SR_4b_Z_var'+'No3_btag_score','No3_btag_score', 15, 0, 1)\n",
    "    histo_dict[_sample+'_SR_4b_Z_var'] = rdf_dict[_sample+'_SR_4b'].Filter('isZee||isZmm')\\\n",
    "    .Filter('V_mass<75 || V_mass>105')\\\n",
    "    .Histo1D(model,'No3_btag_score','weight')\n",
    "    \n",
    "    histo_dict[_sample+'_SR_2b_Z_var'].Write()\n",
    "    histo_dict[_sample+'_SR_3b_Z_var'].Write()\n",
    "    histo_dict[_sample+'_SR_4b_Z_var'].Write()\n",
    "#END"
   ]
  },
  {
   "cell_type": "code",
   "execution_count": 9,
   "id": "brutal-yellow",
   "metadata": {},
   "outputs": [],
   "source": [
    "f_hist_out_TT.Close()"
   ]
  },
  {
   "cell_type": "code",
   "execution_count": 10,
   "id": "noticed-romance",
   "metadata": {},
   "outputs": [],
   "source": [
    "f_hist_in_TT = R.TFile('Histo_for_No3_btag_score_TT.root','READ')"
   ]
  },
  {
   "cell_type": "code",
   "execution_count": 11,
   "id": "frequent-carolina",
   "metadata": {},
   "outputs": [],
   "source": [
    "histo_dict  = {}\n",
    "keys = f_hist_in_TT.GetListOfKeys()\n",
    "for key in keys:\n",
    "    histo_dict[key.ReadObj().GetName()] = f_hist_in_TT.Get(key.ReadObj().GetName())\n",
    "#     print(key.ReadObj().GetName())"
   ]
  },
  {
   "cell_type": "code",
   "execution_count": 52,
   "id": "nutritional-dominican",
   "metadata": {},
   "outputs": [
    {
     "ename": "KeyError",
     "evalue": "'ttbb_SB_2b_Z_varNo3_btag_score'",
     "output_type": "error",
     "traceback": [
      "\u001b[0;31m---------------------------------------------------------------------------\u001b[0m",
      "\u001b[0;31mKeyError\u001b[0m                                  Traceback (most recent call last)",
      "\u001b[0;32m/tmp/ipykernel_124282/368363128.py\u001b[0m in \u001b[0;36m<module>\u001b[0;34m\u001b[0m\n\u001b[1;32m      4\u001b[0m \u001b[0mhisto_dict\u001b[0m\u001b[0;34m[\u001b[0m\u001b[0;34m'Other_SB_2b_Z_varNo3_btag_score'\u001b[0m\u001b[0;34m]\u001b[0m\u001b[0;34m.\u001b[0m\u001b[0mSetFillColor\u001b[0m\u001b[0;34m(\u001b[0m\u001b[0;36m800\u001b[0m\u001b[0;34m)\u001b[0m\u001b[0;34m\u001b[0m\u001b[0;34m\u001b[0m\u001b[0m\n\u001b[1;32m      5\u001b[0m \u001b[0;34m\u001b[0m\u001b[0m\n\u001b[0;32m----> 6\u001b[0;31m \u001b[0mhs\u001b[0m\u001b[0;34m.\u001b[0m\u001b[0mAdd\u001b[0m\u001b[0;34m(\u001b[0m\u001b[0mhisto_dict\u001b[0m\u001b[0;34m[\u001b[0m\u001b[0;34m'ttbb_SB_2b_Z_varNo3_btag_score'\u001b[0m\u001b[0;34m]\u001b[0m\u001b[0;34m)\u001b[0m\u001b[0;34m\u001b[0m\u001b[0;34m\u001b[0m\u001b[0m\n\u001b[0m\u001b[1;32m      7\u001b[0m \u001b[0mhisto_dict\u001b[0m\u001b[0;34m[\u001b[0m\u001b[0;34m'ttbb_SB_2b_Z_varNo3_btag_score'\u001b[0m\u001b[0;34m]\u001b[0m\u001b[0;34m.\u001b[0m\u001b[0mSetFillColor\u001b[0m\u001b[0;34m(\u001b[0m\u001b[0;36m432\u001b[0m\u001b[0;34m)\u001b[0m\u001b[0;34m\u001b[0m\u001b[0;34m\u001b[0m\u001b[0m\n\u001b[1;32m      8\u001b[0m \u001b[0;34m\u001b[0m\u001b[0m\n",
      "\u001b[0;31mKeyError\u001b[0m: 'ttbb_SB_2b_Z_varNo3_btag_score'"
     ]
    }
   ],
   "source": [
    "hs = R.THStack(\"stack\",\"No3_btag_score\")\n",
    "\n",
    "hs.Add(histo_dict['Other_SB_2b_Z_varNo3_btag_score'])\n",
    "histo_dict['Other_SB_2b_Z_varNo3_btag_score'].SetFillColor(800)\n",
    "\n",
    "hs.Add(histo_dict['ttbb_SB_2b_Z_varNo3_btag_score'])\n",
    "histo_dict['ttbb_SB_2b_Z_varNo3_btag_score'].SetFillColor(432)\n",
    "\n",
    "hs.Add(histo_dict['TT_SB_2b_Z_varNo3_btag_score'])\n",
    "histo_dict['TT_SB_2b_Z_varNo3_btag_score'].SetFillColor(600)\n",
    "\n",
    "hs.Add(histo_dict['DY_SB_2b_Z_varNo3_btag_score'])\n",
    "histo_dict['DY_SB_2b_Z_varNo3_btag_score'].SetFillColor(400)\n",
    "\n",
    "histo_dict['Data_SB_2b_Z_varNo3_btag_score'].SetMarkerSize(1)\n",
    "histo_dict['Data_SB_2b_Z_varNo3_btag_score'].SetMarkerStyle(20)\n",
    "histo_dict['Data_SB_2b_Z_varNo3_btag_score'].Sumw2()\n",
    "\n",
    "c = R.TCanvas()\n",
    "R.gStyle.SetOptStat(0000)\n",
    "hs.Draw('hist')\n",
    "histo_dict['Data_SB_2b_Z_varNo3_btag_score'].Draw('SAME')\n",
    "hs.Draw('histSAME')\n",
    "histo_dict['Data_SB_2b_Z_varNo3_btag_score'].Draw('SAME')\n",
    "c.Draw()"
   ]
  },
  {
   "cell_type": "code",
   "execution_count": 12,
   "id": "front-mention",
   "metadata": {},
   "outputs": [
    {
     "name": "stderr",
     "output_type": "stream",
     "text": [
      "Warning in <TH1D::Sumw2>: Sum of squares of weights structure already created\n"
     ]
    },
    {
     "data": {
      "image/png": "[encoded data removed]",
      "text/plain": [
       "<IPython.core.display.Image object>"
      ]
     },
     "metadata": {},
     "output_type": "display_data"
    }
   ],
   "source": [
    "hs = R.THStack(\"stack\",\"No3_btag_score\")\n",
    "\n",
    "# hs.Add(histo_dict['Other_SB_2b_Z_varNo3_btag_score'])\n",
    "# histo_dict['Other_SB_2b_Z_varNo3_btag_score'].SetFillColor(800)\n",
    "\n",
    "hs.Add(histo_dict['ttbb_SB_2b_Z_varNo3_btag_score'])\n",
    "histo_dict['ttbb_SB_2b_Z_varNo3_btag_score'].SetFillColor(432)\n",
    "\n",
    "hs.Add(histo_dict['TT_SB_2b_Z_varNo3_btag_score'])\n",
    "histo_dict['TT_SB_2b_Z_varNo3_btag_score'].SetFillColor(600)\n",
    "\n",
    "# hs.Add(histo_dict['DY_SB_2b_Z_varNo3_btag_score'])\n",
    "# histo_dict['DY_SB_2b_Z_varNo3_btag_score'].SetFillColor(400)\n",
    "\n",
    "\n",
    "histo_dict['Data_SB_2b_Z_varNo3_btag_score'] \\\n",
    "= histo_dict['Data_SB_2b_Z_varNo3_btag_score'] \\\n",
    "- histo_dict['DY_SB_2b_Z_varNo3_btag_score'] - histo_dict['Other_SB_2b_Z_varNo3_btag_score']\n",
    "histo_dict['Data_SB_2b_Z_varNo3_btag_score'].SetMarkerSize(1)\n",
    "histo_dict['Data_SB_2b_Z_varNo3_btag_score'].SetMarkerStyle(20)\n",
    "histo_dict['Data_SB_2b_Z_varNo3_btag_score'].Sumw2()\n",
    "\n",
    "c = R.TCanvas()\n",
    "R.gStyle.SetOptStat(0000)\n",
    "hs.Draw('hist')\n",
    "histo_dict['Data_SB_2b_Z_varNo3_btag_score'].Draw('SAME')\n",
    "hs.Draw('histSAME')\n",
    "histo_dict['Data_SB_2b_Z_varNo3_btag_score'].Draw('SAME')\n",
    "c.Draw()"
   ]
  },
  {
   "cell_type": "code",
   "execution_count": 13,
   "id": "classified-terrorism",
   "metadata": {},
   "outputs": [
    {
     "name": "stdout",
     "output_type": "stream",
     "text": [
      "fit status: \n",
      "****************************************\n",
      "Minimizer is Minuit / Migrad\n",
      "MinFCN                    =      -404862\n",
      "NDf                       =            0\n",
      "Edm                       =  7.91253e-06\n",
      "NCalls                    =          100\n",
      "frac0                     =      0.21801   +/-   0.0295604   \n",
      "frac1                     =     0.782019   +/-   0.0296235    \t (limited)\n",
      "\n",
      " **********\n",
      " **    1 **SET PRINT           0\n",
      " **********\n",
      " **********\n",
      " **    2 **SET NOGRAD\n",
      " **********\n",
      " PARAMETER DEFINITIONS:\n",
      "    NO.   NAME         VALUE      STEP SIZE      LIMITS\n",
      "     1 frac0        5.00000e-01  1.00000e-02     no limits\n",
      "     2 frac1        5.00000e-01  1.00000e-02    0.00000e+00  1.00000e+00\n",
      " **********\n",
      " **    3 **SET ERR         0.5\n",
      " **********\n",
      " **********\n",
      " **    4 **SET PRINT           0\n",
      " **********\n",
      " **********\n",
      " **    5 **SET STR           1\n",
      " **********\n",
      " **********\n",
      " **    6 **MIGRAD        1220        0.01\n",
      " **********\n",
      " MACHINE ACCURACY LIMITS FURTHER IMPROVEMENT.\n",
      " MIGRAD MINIMIZATION HAS CONVERGED.\n",
      " MIGRAD WILL VERIFY CONVERGENCE AND ERROR MATRIX.\n",
      " FCN=-404862 FROM MIGRAD    STATUS=CONVERGED      99 CALLS         100 TOTAL\n",
      "                     EDM=7.91253e-06    STRATEGY= 1      ERROR MATRIX ACCURATE \n",
      "  EXT PARAMETER                                   STEP         FIRST   \n",
      "  NO.   NAME      VALUE            ERROR          SIZE      DERIVATIVE \n",
      "   1  frac0        2.18010e-01   2.95604e-02   4.47211e-03   2.74456e-01\n",
      "   2  frac1        7.82019e-01   2.96235e-02   1.08641e-02   1.10665e-01\n",
      "                               ERR DEF= 0.5\n"
     ]
    },
    {
     "data": {
      "image/png": "[encoded data removed]",
      "text/plain": [
       "<IPython.core.display.Image object>"
      ]
     },
     "metadata": {},
     "output_type": "display_data"
    }
   ],
   "source": [
    "mc = R.TObjArray(2)\n",
    "mc.Add(histo_dict['ttbb_SB_2b_Z_varNo3_btag_score'])\n",
    "mc.Add(histo_dict['TT_SB_2b_Z_varNo3_btag_score'])\n",
    "data = histo_dict['Data_SB_2b_Z_varNo3_btag_score']\n",
    "fit = R.TFractionFitter(data, mc)\n",
    "fit.Constrain(1,0.0,1.0)\n",
    "fit.SetRangeX(1,15)\n",
    "status = fit.Fit()\n",
    "print(\"fit status: \"+str(status))\n",
    "if status == 0:\n",
    "    result = fit.GetPlot()\n",
    "    c = R.TCanvas()\n",
    "    R.gStyle.SetOptStat(0000)\n",
    "    data.Draw(\"Ep\")\n",
    "    result.Draw(\"same\")\n",
    "    c.Draw()"
   ]
  },
  {
   "cell_type": "code",
   "execution_count": 14,
   "id": "stock-engineer",
   "metadata": {},
   "outputs": [],
   "source": [
    "histo_dict  = {}\n",
    "keys = f_hist_in_TT.GetListOfKeys()\n",
    "for key in keys:\n",
    "    histo_dict[key.ReadObj().GetName()] = f_hist_in_TT.Get(key.ReadObj().GetName())\n",
    "#     print(key.ReadObj().GetName())"
   ]
  },
  {
   "cell_type": "code",
   "execution_count": 15,
   "id": "willing-screw",
   "metadata": {},
   "outputs": [
    {
     "name": "stderr",
     "output_type": "stream",
     "text": [
      "Warning in <TH1D::Sumw2>: Sum of squares of weights structure already created\n"
     ]
    },
    {
     "data": {
      "image/png": "[encoded data removed]",
      "text/plain": [
       "<IPython.core.display.Image object>"
      ]
     },
     "metadata": {},
     "output_type": "display_data"
    }
   ],
   "source": [
    "hs = R.THStack(\"stack\",\"No3_btag_score\")\n",
    "\n",
    "hs.Add(histo_dict['Other_SB_2b_Z_varNo3_btag_score'])\n",
    "histo_dict['Other_SB_2b_Z_varNo3_btag_score'].SetFillColor(800)\n",
    "\n",
    "hs.Add(histo_dict['ttbb_SB_2b_Z_varNo3_btag_score']*2.18009e-01)\n",
    "histo_dict['ttbb_SB_2b_Z_varNo3_btag_score'].SetFillColor(432)\n",
    "\n",
    "hs.Add(histo_dict['TT_SB_2b_Z_varNo3_btag_score']*7.82019e-01)\n",
    "histo_dict['TT_SB_2b_Z_varNo3_btag_score'].SetFillColor(600)\n",
    "\n",
    "hs.Add(histo_dict['DY_SB_2b_Z_varNo3_btag_score'])\n",
    "histo_dict['DY_SB_2b_Z_varNo3_btag_score'].SetFillColor(400)\n",
    "\n",
    "histo_dict['Data_SB_2b_Z_varNo3_btag_score'].SetMarkerSize(1)\n",
    "histo_dict['Data_SB_2b_Z_varNo3_btag_score'].SetMarkerStyle(20)\n",
    "histo_dict['Data_SB_2b_Z_varNo3_btag_score'].Sumw2()\n",
    "\n",
    "c = R.TCanvas()\n",
    "R.gStyle.SetOptStat(0000)\n",
    "hs.Draw('hist')\n",
    "histo_dict['Data_SB_2b_Z_varNo3_btag_score'].Draw('SAME')\n",
    "hs.Draw('histSAME')\n",
    "histo_dict['Data_SB_2b_Z_varNo3_btag_score'].Draw('SAME')\n",
    "c.Draw()"
   ]
  },
  {
   "cell_type": "code",
   "execution_count": 53,
   "id": "intermediate-safety",
   "metadata": {},
   "outputs": [],
   "source": [
    "histo_dict  = {}\n",
    "keys = f_hist_in_TT.GetListOfKeys()\n",
    "for key in keys:\n",
    "    histo_dict[key.ReadObj().GetName()] = f_hist_in_TT.Get(key.ReadObj().GetName())\n",
    "#     print(key.ReadObj().GetName())"
   ]
  },
  {
   "cell_type": "code",
   "execution_count": 12,
   "id": "moral-elephant",
   "metadata": {},
   "outputs": [
    {
     "data": {
      "image/png": "[encoded data removed]",
      "text/plain": [
       "<IPython.core.display.Image object>"
      ]
     },
     "metadata": {},
     "output_type": "display_data"
    }
   ],
   "source": [
    "hs = R.THStack(\"stack\",\"No3_btag_score\")\n",
    "\n",
    "hs.Add(histo_dict['Other_SB_3b_Z_varNo3_btag_score'])\n",
    "histo_dict['Other_SB_3b_Z_varNo3_btag_score'].SetFillColor(800)\n",
    "\n",
    "hs.Add(histo_dict['TTBB_SB_3b_Z_varNo3_btag_score'])\n",
    "histo_dict['TTBB_SB_3b_Z_varNo3_btag_score'].SetFillColor(432)\n",
    "\n",
    "hs.Add(histo_dict['TT_SB_3b_Z_varNo3_btag_score'])\n",
    "histo_dict['TT_SB_3b_Z_varNo3_btag_score'].SetFillColor(600)\n",
    "\n",
    "hs.Add(histo_dict['DY_SB_3b_Z_varNo3_btag_score'])\n",
    "histo_dict['DY_SB_3b_Z_varNo3_btag_score'].SetFillColor(400)\n",
    "\n",
    "histo_dict['Data_SB_3b_Z_varNo3_btag_score'].SetMarkerSize(1)\n",
    "histo_dict['Data_SB_3b_Z_varNo3_btag_score'].SetMarkerStyle(20)\n",
    "histo_dict['Data_SB_3b_Z_varNo3_btag_score'].Sumw2()\n",
    "\n",
    "c = R.TCanvas()\n",
    "R.gStyle.SetOptStat(0000)\n",
    "hs.Draw('hist')\n",
    "histo_dict['Data_SB_3b_Z_varNo3_btag_score'].Draw('SAME')\n",
    "hs.Draw('histSAME')\n",
    "histo_dict['Data_SB_3b_Z_varNo3_btag_score'].Draw('SAME')\n",
    "c.Draw()"
   ]
  },
  {
   "cell_type": "code",
   "execution_count": 39,
   "id": "global-nightlife",
   "metadata": {},
   "outputs": [
    {
     "name": "stderr",
     "output_type": "stream",
     "text": [
      "Warning in <TH1D::Sumw2>: Sum of squares of weights structure already created\n"
     ]
    },
    {
     "data": {
      "image/png": "[encoded data removed]",
      "text/plain": [
       "<IPython.core.display.Image object>"
      ]
     },
     "metadata": {},
     "output_type": "display_data"
    }
   ],
   "source": [
    "hs = R.THStack(\"stack\",\"No3_btag_score\")\n",
    "\n",
    "# hs.Add(histo_dict['Other_SB_3b_Z_varNo3_btag_score'])\n",
    "# histo_dict['Other_SB_3b_Z_varNo3_btag_score'].SetFillColor(800)\n",
    "\n",
    "hs.Add(histo_dict['TTBB_SB_3b_Z_varNo3_btag_score'])\n",
    "histo_dict['TTBB_SB_3b_Z_varNo3_btag_score'].SetFillColor(432)\n",
    "\n",
    "hs.Add(histo_dict['TT_SB_3b_Z_varNo3_btag_score'])\n",
    "histo_dict['TT_SB_3b_Z_varNo3_btag_score'].SetFillColor(600)\n",
    "\n",
    "# hs.Add(histo_dict['DY_SB_3b_Z_varNo3_btag_score'])\n",
    "# histo_dict['DY_SB_3b_Z_varNo3_btag_score'].SetFillColor(400)\n",
    "\n",
    "histo_dict['Data_SB_3b_Z_varNo3_btag_score'] \\\n",
    "= histo_dict['Data_SB_3b_Z_varNo3_btag_score'] \\\n",
    "- histo_dict['DY_SB_3b_Z_varNo3_btag_score'] - histo_dict['Other_SB_3b_Z_varNo3_btag_score']\n",
    "\n",
    "\n",
    "\n",
    "histo_dict['Data_SB_3b_Z_varNo3_btag_score'].SetMarkerSize(1)\n",
    "histo_dict['Data_SB_3b_Z_varNo3_btag_score'].SetMarkerStyle(20)\n",
    "histo_dict['Data_SB_3b_Z_varNo3_btag_score'].Sumw2()\n",
    "\n",
    "c = R.TCanvas()\n",
    "R.gStyle.SetOptStat(0000)\n",
    "hs.Draw('hist')\n",
    "histo_dict['Data_SB_3b_Z_varNo3_btag_score'].Draw('SAME')\n",
    "hs.Draw('histSAME')\n",
    "histo_dict['Data_SB_3b_Z_varNo3_btag_score'].Draw('SAME')\n",
    "c.Draw()"
   ]
  },
  {
   "cell_type": "code",
   "execution_count": 30,
   "id": "appointed-material",
   "metadata": {},
   "outputs": [
    {
     "name": "stdout",
     "output_type": "stream",
     "text": [
      "fit status: \n",
      "****************************************\n",
      "Minimizer is Minuit / Migrad\n",
      "MinFCN                    =     -34427.4\n",
      "NDf                       =            0\n",
      "Edm                       =  2.94531e-08\n",
      "NCalls                    =           59\n",
      "frac0                     =    0.0688917   +/-   0.0393896   \n",
      "frac1                     =     0.931104   +/-   0.0454618   \n",
      "\n",
      " **********\n",
      " **    7 **SET PRINT           0\n",
      " **********\n",
      " **********\n",
      " **    8 **SET NOGRAD\n",
      " **********\n",
      " PARAMETER DEFINITIONS:\n",
      "    NO.   NAME         VALUE      STEP SIZE      LIMITS\n",
      "     1 frac0        5.00000e-01  1.00000e-02     no limits\n",
      "     2 frac1        5.00000e-01  1.00000e-02     no limits\n",
      " **********\n",
      " **    9 **SET ERR         0.5\n",
      " **********\n",
      " **********\n",
      " **   10 **SET PRINT           0\n",
      " **********\n",
      " **********\n",
      " **   11 **SET STR           1\n",
      " **********\n",
      " **********\n",
      " **   12 **MIGRAD        1220        0.01\n",
      " **********\n",
      " MIGRAD MINIMIZATION HAS CONVERGED.\n",
      " MIGRAD WILL VERIFY CONVERGENCE AND ERROR MATRIX.\n",
      " FCN=-34427.4 FROM MIGRAD    STATUS=CONVERGED      58 CALLS          59 TOTAL\n",
      "                     EDM=2.94531e-08    STRATEGY= 1      ERROR MATRIX ACCURATE \n",
      "  EXT PARAMETER                                   STEP         FIRST   \n",
      "  NO.   NAME      VALUE            ERROR          SIZE      DERIVATIVE \n",
      "   1  frac0        6.88917e-02   3.93896e-02   2.68784e-03  -7.67997e-03\n",
      "   2  frac1        9.31104e-01   4.54618e-02   3.10182e-03  -6.93147e-03\n",
      "                               ERR DEF= 0.5\n"
     ]
    },
    {
     "data": {
      "image/png": "[encoded data removed]",
      "text/plain": [
       "<IPython.core.display.Image object>"
      ]
     },
     "metadata": {},
     "output_type": "display_data"
    }
   ],
   "source": [
    "mc = R.TObjArray(2)\n",
    "mc.Add(histo_dict['TTBB_SB_3b_Z_varNo3_btag_score'])\n",
    "mc.Add(histo_dict['TT_SB_3b_Z_varNo3_btag_score'])\n",
    "data = histo_dict['Data_SB_3b_Z_varNo3_btag_score']\n",
    "fit = R.TFractionFitter(data, mc)\n",
    "fitter = fit.GetFitter()\n",
    "# fitter.Config().ParSettings(0).Set('TTBB', 1.0, 0.001, 0.70, 1.40)\n",
    "# fitter.Config().ParSettings(1).Set('TT', 1.0, 0.001, 0.30, 1.80)\n",
    "\n",
    "# fit.Constrain(0,0.8,1.2)\n",
    "# fit.Constrain(1,0.1,2.0)\n",
    "fit.SetRangeX(5,15)\n",
    "status = fit.Fit()\n",
    "print(\"fit status: \"+str(status))\n",
    "if status == 0:\n",
    "    result = fit.GetPlot()\n",
    "    c = R.TCanvas()\n",
    "    R.gStyle.SetOptStat(0000)\n",
    "    data.Draw(\"Ep\")\n",
    "    result.Draw(\"same\")\n",
    "    c.Draw()\n",
    "\n",
    "SF_0 = ctypes.c_double(0.)\n",
    "ERR_0 = ctypes.c_double(0.)\n",
    "\n",
    "SF_1 = ctypes.c_double(0.)\n",
    "ERR_1 = ctypes.c_double(0.)\n",
    "\n",
    "fit.GetResult(0, SF_0, ERR_0)\n",
    "fit.GetResult(1, SF_1, ERR_1)"
   ]
  },
  {
   "cell_type": "code",
   "execution_count": 19,
   "id": "roman-english",
   "metadata": {},
   "outputs": [],
   "source": [
    "histo_dict  = {}\n",
    "keys = f_hist_in_TT.GetListOfKeys()\n",
    "for key in keys:\n",
    "    histo_dict[key.ReadObj().GetName()] = f_hist_in_TT.Get(key.ReadObj().GetName())\n",
    "#     print(key.ReadObj().GetName())"
   ]
  },
  {
   "cell_type": "code",
   "execution_count": 20,
   "id": "southwest-paris",
   "metadata": {},
   "outputs": [
    {
     "name": "stdout",
     "output_type": "stream",
     "text": [
      "0.2568246784197144\n",
      "0.9360375905803365\n"
     ]
    }
   ],
   "source": [
    "test_sig_hist_new = fit.GetMCPrediction(0)\n",
    "test_bkg_hist_new = fit.GetMCPrediction(1)\n",
    "print(SF_0.value * data.Integral()/test_sig_hist_new.Integral())\n",
    "print(SF_1.value * data.Integral()/test_bkg_hist_new.Integral())"
   ]
  },
  {
   "cell_type": "code",
   "execution_count": 41,
   "id": "closing-iraqi",
   "metadata": {},
   "outputs": [
    {
     "name": "stderr",
     "output_type": "stream",
     "text": [
      "Warning in <TH1D::Sumw2>: Sum of squares of weights structure already created\n"
     ]
    },
    {
     "data": {
      "image/png": "[encoded data removed]",
      "text/plain": [
       "<IPython.core.display.Image object>"
      ]
     },
     "metadata": {},
     "output_type": "display_data"
    }
   ],
   "source": [
    "hs = R.THStack(\"stack\",\"No3_btag_score\")\n",
    "\n",
    "hs.Add(histo_dict['Other_SB_3b_Z_varNo3_btag_score'])\n",
    "histo_dict['Other_SB_3b_Z_varNo3_btag_score'].SetFillColor(800)\n",
    "\n",
    "hs.Add(histo_dict['TTBB_SB_3b_Z_varNo3_btag_score']*0.2568246784197144)\n",
    "histo_dict['TTBB_SB_3b_Z_varNo3_btag_score'].SetFillColor(432)\n",
    "\n",
    "hs.Add(histo_dict['TT_SB_3b_Z_varNo3_btag_score']*0.9360375905803365)\n",
    "histo_dict['TT_SB_3b_Z_varNo3_btag_score'].SetFillColor(600)\n",
    "\n",
    "hs.Add(histo_dict['DY_SB_3b_Z_varNo3_btag_score'])\n",
    "histo_dict['DY_SB_3b_Z_varNo3_btag_score'].SetFillColor(400)\n",
    "\n",
    "histo_dict['Data_SB_3b_Z_varNo3_btag_score'].SetMarkerSize(1)\n",
    "histo_dict['Data_SB_3b_Z_varNo3_btag_score'].SetMarkerStyle(20)\n",
    "histo_dict['Data_SB_3b_Z_varNo3_btag_score'].Sumw2()\n",
    "\n",
    "c = R.TCanvas()\n",
    "R.gStyle.SetOptStat(0000)\n",
    "hs.Draw('hist')\n",
    "histo_dict['Data_SB_3b_Z_varNo3_btag_score'].Draw('SAME')\n",
    "hs.Draw('histSAME')\n",
    "histo_dict['Data_SB_3b_Z_varNo3_btag_score'].Draw('SAME')\n",
    "c.Draw()"
   ]
  },
  {
   "cell_type": "code",
   "execution_count": 47,
   "id": "activated-turkish",
   "metadata": {},
   "outputs": [
    {
     "data": {
      "image/png": "[encoded data removed]",
      "text/plain": [
       "<IPython.core.display.Image object>"
      ]
     },
     "metadata": {},
     "output_type": "display_data"
    }
   ],
   "source": [
    "hs = R.THStack(\"stack\",\"No3_btag_score\")\n",
    "\n",
    "hs.Add(histo_dict['Other_SB_4b_Z_varNo3_btag_score'])\n",
    "histo_dict['Other_SB_4b_Z_varNo3_btag_score'].SetFillColor(800)\n",
    "\n",
    "hs.Add(histo_dict['ttbb_SB_4b_Z_varNo3_btag_score'])\n",
    "histo_dict['ttbb_SB_4b_Z_varNo3_btag_score'].SetFillColor(432)\n",
    "\n",
    "hs.Add(histo_dict['TT_SB_4b_Z_varNo3_btag_score'])\n",
    "histo_dict['TT_SB_4b_Z_varNo3_btag_score'].SetFillColor(600)\n",
    "\n",
    "hs.Add(histo_dict['DY_SB_4b_Z_varNo3_btag_score'])\n",
    "histo_dict['DY_SB_4b_Z_varNo3_btag_score'].SetFillColor(400)\n",
    "\n",
    "histo_dict['Data_SB_4b_Z_varNo3_btag_score'].SetMarkerSize(1)\n",
    "histo_dict['Data_SB_4b_Z_varNo3_btag_score'].SetMarkerStyle(20)\n",
    "histo_dict['Data_SB_4b_Z_varNo3_btag_score'].Sumw2()\n",
    "\n",
    "c = R.TCanvas()\n",
    "R.gStyle.SetOptStat(0000)\n",
    "hs.Draw('hist')\n",
    "histo_dict['Data_SB_4b_Z_varNo3_btag_score'].Draw('SAME')\n",
    "hs.Draw('histSAME')\n",
    "histo_dict['Data_SB_4b_Z_varNo3_btag_score'].Draw('SAME')\n",
    "c.Draw()"
   ]
  },
  {
   "cell_type": "code",
   "execution_count": null,
   "id": "thousand-protest",
   "metadata": {},
   "outputs": [],
   "source": []
  },
  {
   "cell_type": "code",
   "execution_count": null,
   "id": "tired-damages",
   "metadata": {},
   "outputs": [],
   "source": []
  },
  {
   "cell_type": "code",
   "execution_count": null,
   "id": "detected-gross",
   "metadata": {},
   "outputs": [],
   "source": []
  },
  {
   "cell_type": "code",
   "execution_count": 28,
   "id": "cubic-picking",
   "metadata": {},
   "outputs": [
    {
     "data": {
      "image/png": "[encoded data removed]",
      "text/plain": [
       "<IPython.core.display.Image object>"
      ]
     },
     "metadata": {},
     "output_type": "display_data"
    }
   ],
   "source": [
    "hs = R.THStack(\"stack\",\"No3_btag_score\")\n",
    "\n",
    "hs.Add(histo_dict['Other_CR_3b_Z_varNo3_btag_score'])\n",
    "histo_dict['Other_CR_3b_Z_varNo3_btag_score'].SetFillColor(800)\n",
    "\n",
    "hs.Add(histo_dict['ttbb_CR_3b_Z_varNo3_btag_score'])\n",
    "histo_dict['ttbb_CR_3b_Z_varNo3_btag_score'].SetFillColor(432)\n",
    "\n",
    "hs.Add(histo_dict['TT_CR_3b_Z_varNo3_btag_score'])\n",
    "histo_dict['TT_CR_3b_Z_varNo3_btag_score'].SetFillColor(600)\n",
    "\n",
    "hs.Add(histo_dict['DY_CR_3b_Z_varNo3_btag_score'])\n",
    "histo_dict['DY_CR_3b_Z_varNo3_btag_score'].SetFillColor(400)\n",
    "\n",
    "histo_dict['Data_CR_3b_Z_varNo3_btag_score'].SetMarkerSize()\n",
    "histo_dict['Data_CR_3b_Z_varNo3_btag_score'].SetMarkerStyle(20)\n",
    "histo_dict['Data_CR_3b_Z_varNo3_btag_score'].Sumw2()\n",
    "\n",
    "\n",
    "\n",
    "c = R.TCanvas()\n",
    "R.gStyle.SetOptStat(0000)\n",
    "hs.Draw('hist')\n",
    "histo_dict['Data_CR_3b_Z_varNo3_btag_score'].Draw('SAME')\n",
    "hs.Draw('histSAME')\n",
    "histo_dict['Data_CR_3b_Z_varNo3_btag_score'].Draw('SAME')\n",
    "c.Draw()"
   ]
  },
  {
   "cell_type": "code",
   "execution_count": null,
   "id": "purple-airplane",
   "metadata": {},
   "outputs": [],
   "source": [
    "hs = R.THStack(\"stack\",\"No3_btag_score\")\n",
    "\n",
    "hs.Add(histo_dict['Other_CR_3b_Z_varNo3_btag_score'])\n",
    "histo_dict['Other_CR_3b_Z_varNo3_btag_score'].SetFillColor(800)\n",
    "\n",
    "hs.Add(histo_dict['ttbb_CR_3b_Z_varNo3_btag_score'])\n",
    "histo_dict['ttbb_CR_3b_Z_varNo3_btag_score'].SetFillColor(432)\n",
    "\n",
    "hs.Add(histo_dict['TT_CR_3b_Z_varNo3_btag_score'])\n",
    "histo_dict['TT_CR_3b_Z_varNo3_btag_score'].SetFillColor(600)\n",
    "\n",
    "hs.Add(histo_dict['DY_CR_3b_Z_varNo3_btag_score'])\n",
    "histo_dict['DY_CR_3b_Z_varNo3_btag_score'].SetFillColor(400)\n",
    "\n",
    "histo_dict['Data_CR_3b_Z_varNo3_btag_score'].SetMarkerSize()\n",
    "histo_dict['Data_CR_3b_Z_varNo3_btag_score'].SetMarkerStyle(20)\n",
    "histo_dict['Data_CR_3b_Z_varNo3_btag_score'].Sumw2()\n",
    "\n",
    "\n",
    "\n",
    "c = R.TCanvas()\n",
    "R.gStyle.SetOptStat(0000)\n",
    "hs.Draw('hist')\n",
    "histo_dict['Data_CR_3b_Z_varNo3_btag_score'].Draw('SAME')\n",
    "hs.Draw('histSAME')\n",
    "histo_dict['Data_CR_3b_Z_varNo3_btag_score'].Draw('SAME')\n",
    "c.Draw()"
   ]
  },
  {
   "cell_type": "code",
   "execution_count": null,
   "id": "recorded-milwaukee",
   "metadata": {},
   "outputs": [],
   "source": [
    "hs = R.THStack(\"stack\",\"No3_btag_score\")\n",
    "\n",
    "hs.Add(histo_dict['Other_CR_4b_Z_varNo3_btag_score'])\n",
    "histo_dict['Other_CR_4b_Z_varNo3_btag_score'].SetFillColor(800)\n",
    "\n",
    "hs.Add(histo_dict['ttbb_CR_4b_Z_varNo3_btag_score'])\n",
    "histo_dict['ttbb_CR_4b_Z_varNo3_btag_score'].SetFillColor(432)\n",
    "\n",
    "hs.Add(histo_dict['TT_CR_4b_Z_varNo3_btag_score'])\n",
    "histo_dict['TT_CR_4b_Z_varNo3_btag_score'].SetFillColor(600)\n",
    "\n",
    "hs.Add(histo_dict['DY_CR_4b_Z_varNo3_btag_score'])\n",
    "histo_dict['DY_CR_4b_Z_varNo3_btag_score'].SetFillColor(400)\n",
    "\n",
    "histo_dict['Data_CR_4b_Z_varNo3_btag_score'].SetMarkerSize()\n",
    "histo_dict['Data_CR_4b_Z_varNo3_btag_score'].SetMarkerStyle(20)\n",
    "histo_dict['Data_CR_4b_Z_varNo3_btag_score'].Sumw2()\n",
    "\n",
    "\n",
    "\n",
    "c = R.TCanvas()\n",
    "R.gStyle.SetOptStat(0000)\n",
    "hs.Draw('hist')\n",
    "histo_dict['Data_CR_4b_Z_varNo3_btag_score'].Draw('SAME')\n",
    "hs.Draw('histSAME')\n",
    "histo_dict['Data_CR_4b_Z_varNo3_btag_score'].Draw('SAME')\n",
    "c.Draw()"
   ]
  },
  {
   "cell_type": "code",
   "execution_count": 22,
   "id": "reserved-spray",
   "metadata": {},
   "outputs": [],
   "source": [
    "f_hist_in_TT.Close()"
   ]
  },
  {
   "cell_type": "code",
   "execution_count": null,
   "id": "optional-sodium",
   "metadata": {},
   "outputs": [],
   "source": [
    "f_hist_in_Z.Close()"
   ]
  }
 ],
 "metadata": {
  "kernelspec": {
   "display_name": "my_ml_env",
   "language": "python",
   "name": "my_ml_env"
  },
  "language_info": {
   "codemirror_mode": {
    "name": "ipython",
    "version": 3
   },
   "file_extension": ".py",
   "mimetype": "text/x-python",
   "name": "python",
   "nbconvert_exporter": "python",
   "pygments_lexer": "ipython3",
   "version": "3.9.9"
  }
 },
 "nbformat": 4,
 "nbformat_minor": 5
}
