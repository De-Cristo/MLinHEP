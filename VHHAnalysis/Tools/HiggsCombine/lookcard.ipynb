{
 "cells": [
  {
   "cell_type": "code",
   "execution_count": 6,
   "id": "controlled-metallic",
   "metadata": {},
   "outputs": [],
   "source": [
    "import ROOT as R"
   ]
  },
  {
   "cell_type": "code",
   "execution_count": 305,
   "id": "binding-visitor",
   "metadata": {},
   "outputs": [],
   "source": [
    "path = './DL_2018_rwt_0421/'"
   ]
  },
  {
   "cell_type": "code",
   "execution_count": 306,
   "id": "naval-antenna",
   "metadata": {},
   "outputs": [],
   "source": [
    "root_file = 'sum_hists_2018_R_Zll_Klbdt_SM_4b_bin_SR_Z.root'"
   ]
  },
  {
   "cell_type": "code",
   "execution_count": 307,
   "id": "marked-secretary",
   "metadata": {},
   "outputs": [],
   "source": [
    "fin = R.TFile(path+root_file,'READ')"
   ]
  },
  {
   "cell_type": "code",
   "execution_count": 308,
   "id": "brave-duncan",
   "metadata": {},
   "outputs": [
    {
     "name": "stdout",
     "output_type": "stream",
     "text": [
      "0.035845970055095405\n",
      "TH1.Print Name  = VHH_CV_1_C2V_1_kl_1_hbbhbb, Entries= 2902, Total sum= 0.035846\n",
      " fSumw[0]=0, x=-0.1, error=0\n",
      " fSumw[1]=0.00529308, x=0.348694, error=0.000263883\n",
      " fSumw[2]=0.00644185, x=0.790662, error=0.00028501\n",
      " fSumw[3]=0.00732774, x=0.917427, error=0.000307125\n",
      " fSumw[4]=0.00783142, x=0.96605, error=0.000321026\n",
      " fSumw[5]=0.00895187, x=0.990593, error=0.000352628\n",
      " fSumw[6]=0, x=1.1, error=0\n"
     ]
    }
   ],
   "source": [
    "sm_histo = fin.Get('VHH_CV_1_C2V_1_kl_1_hbbhbb')\n",
    "sm_histo.Print(\"ALL\")\n",
    "print(sm_histo.Integral())"
   ]
  },
  {
   "cell_type": "code",
   "execution_count": 309,
   "id": "consistent-disco",
   "metadata": {},
   "outputs": [
    {
     "name": "stdout",
     "output_type": "stream",
     "text": [
      "0.6754605774674264\n",
      "TH1.Print Name  = VHH_CV_1_C2V_1_kl_20_hbbhbb, Entries= 1287, Total sum= 0.675461\n",
      " fSumw[0]=0, x=-0.1, error=0\n",
      " fSumw[1]=0.130253, x=0.348694, error=0.0084051\n",
      " fSumw[2]=0.163527, x=0.790662, error=0.00934168\n",
      " fSumw[3]=0.162422, x=0.917427, error=0.00949322\n",
      " fSumw[4]=0.129327, x=0.96605, error=0.00857526\n",
      " fSumw[5]=0.0899321, x=0.990593, error=0.00735699\n",
      " fSumw[6]=0, x=1.1, error=0\n"
     ]
    }
   ],
   "source": [
    "strong_histo = fin.Get('VHH_CV_1_C2V_1_kl_20_hbbhbb')\n",
    "strong_histo.Print(\"ALL\")\n",
    "print(strong_histo.Integral())"
   ]
  },
  {
   "cell_type": "code",
   "execution_count": 310,
   "id": "armed-marble",
   "metadata": {},
   "outputs": [
    {
     "name": "stdout",
     "output_type": "stream",
     "text": [
      "60.4803916791961\n",
      "TH1.Print Name  = TT, Entries= 21954, Total sum= 60.4804\n",
      " fSumw[0]=0, x=-0.1, error=0\n",
      " fSumw[1]=56.8744, x=0.348694, error=0.506845\n",
      " fSumw[2]=2.66118, x=0.790662, error=0.11858\n",
      " fSumw[3]=0.728169, x=0.917427, error=0.0634215\n",
      " fSumw[4]=0.192147, x=0.96605, error=0.0331224\n",
      " fSumw[5]=0.0245506, x=0.990593, error=0.0125151\n",
      " fSumw[6]=0, x=1.1, error=0\n"
     ]
    }
   ],
   "source": [
    "tt_histo = fin.Get('TT')\n",
    "tt_histo.Print(\"ALL\")\n",
    "print(tt_histo.Integral())"
   ]
  },
  {
   "cell_type": "code",
   "execution_count": 311,
   "id": "broke-automation",
   "metadata": {},
   "outputs": [
    {
     "name": "stdout",
     "output_type": "stream",
     "text": [
      "46.533663533787625\n",
      "TH1.Print Name  = TTB, Entries= 447, Total sum= 46.5337\n",
      " fSumw[0]=0, x=-0.1, error=0\n",
      " fSumw[1]=41.0434, x=0.348694, error=2.62904\n",
      " fSumw[2]=3.80769, x=0.790662, error=0.967875\n",
      " fSumw[3]=1.25211, x=0.917427, error=0.485936\n",
      " fSumw[4]=0.430472, x=0.96605, error=0.254516\n",
      " fSumw[5]=0, x=0.990593, error=0\n",
      " fSumw[6]=0, x=1.1, error=0\n"
     ]
    }
   ],
   "source": [
    "ttb_histo = fin.Get('TTB')\n",
    "ttb_histo.Print(\"ALL\")\n",
    "print(ttb_histo.Integral())"
   ]
  },
  {
   "cell_type": "code",
   "execution_count": 312,
   "id": "superior-assurance",
   "metadata": {},
   "outputs": [
    {
     "name": "stdout",
     "output_type": "stream",
     "text": [
      "25.086394852031027\n",
      "TH1.Print Name  = DY, Entries= 4933, Total sum= 25.0864\n",
      " fSumw[0]=0, x=-0.1, error=0\n",
      " fSumw[1]=21.6337, x=0.348694, error=1.03682\n",
      " fSumw[2]=2.22014, x=0.790662, error=0.239705\n",
      " fSumw[3]=0.819876, x=0.917427, error=0.0678324\n",
      " fSumw[4]=0.341978, x=0.96605, error=0.0445162\n",
      " fSumw[5]=0.0706761, x=0.990593, error=0.011805\n",
      " fSumw[6]=0, x=1.1, error=0\n"
     ]
    }
   ],
   "source": [
    "dy_histo = fin.Get('DY')\n",
    "dy_histo.Print(\"ALL\")\n",
    "print(dy_histo.Integral())"
   ]
  },
  {
   "cell_type": "code",
   "execution_count": 313,
   "id": "successful-entrance",
   "metadata": {},
   "outputs": [
    {
     "name": "stdout",
     "output_type": "stream",
     "text": [
      "132.10045006501474\n"
     ]
    }
   ],
   "source": [
    "print(tt_histo.Integral()+ttb_histo.Integral()+dy_histo.Integral())"
   ]
  },
  {
   "cell_type": "code",
   "execution_count": 314,
   "id": "finnish-mirror",
   "metadata": {},
   "outputs": [
    {
     "name": "stdout",
     "output_type": "stream",
     "text": [
      "TH1.Print Name  = TTV, Entries= 474, Total sum= 6.7575\n",
      " fSumw[0]=0, x=-0.1, error=0\n",
      " fSumw[1]=4.4984, x=0.348694, error=0.280136\n",
      " fSumw[2]=1.21533, x=0.790662, error=0.142948\n",
      " fSumw[3]=0.64351, x=0.917427, error=0.0938793\n",
      " fSumw[4]=0.242143, x=0.96605, error=0.0603993\n",
      " fSumw[5]=0.158118, x=0.990593, error=0.0476904\n",
      " fSumw[6]=0, x=1.1, error=0\n"
     ]
    }
   ],
   "source": [
    "ttv_histo = fin.Get('TTV')\n",
    "ttv_histo.Print(\"ALL\")"
   ]
  },
  {
   "cell_type": "code",
   "execution_count": 315,
   "id": "narrow-proof",
   "metadata": {},
   "outputs": [
    {
     "name": "stdout",
     "output_type": "stream",
     "text": [
      "TH1.Print Name  = ttH, Entries= 301, Total sum= 3.72858\n",
      " fSumw[0]=0, x=-0.1, error=0\n",
      " fSumw[1]=3.26687, x=0.348694, error=0.207941\n",
      " fSumw[2]=0.379056, x=0.790662, error=0.0724588\n",
      " fSumw[3]=0.0329795, x=0.917427, error=0.0190588\n",
      " fSumw[4]=0.0496723, x=0.96605, error=0.0250541\n",
      " fSumw[5]=0, x=0.990593, error=0\n",
      " fSumw[6]=0, x=1.1, error=0\n"
     ]
    }
   ],
   "source": [
    "ttH_histo = fin.Get('ttH')\n",
    "ttH_histo.Print(\"ALL\")"
   ]
  },
  {
   "cell_type": "code",
   "execution_count": 316,
   "id": "political-facing",
   "metadata": {},
   "outputs": [
    {
     "name": "stdout",
     "output_type": "stream",
     "text": [
      "TH1.Print Name  = s_Top, Entries= 3, Total sum= 2.88891\n",
      " fSumw[0]=0, x=-0.1, error=0\n",
      " fSumw[1]=2.88891, x=0.348694, error=1.68411\n",
      " fSumw[2]=0, x=0.790662, error=0\n",
      " fSumw[3]=0, x=0.917427, error=0\n",
      " fSumw[4]=0, x=0.96605, error=0\n",
      " fSumw[5]=0, x=0.990593, error=0\n",
      " fSumw[6]=0, x=1.1, error=0\n"
     ]
    }
   ],
   "source": [
    "s_Top_histo = fin.Get('s_Top')\n",
    "s_Top_histo.Print(\"ALL\")"
   ]
  },
  {
   "cell_type": "code",
   "execution_count": 317,
   "id": "failing-railway",
   "metadata": {},
   "outputs": [],
   "source": [
    "hs = R.THStack(\"stack\",\"datacards\")\n",
    "\n",
    "tt_histo.SetFillColor(600)\n",
    "ttb_histo.SetFillColor(432)\n",
    "dy_histo.SetFillColor(400)\n",
    "ttv_histo.SetFillColor(800)\n",
    "ttH_histo.SetFillColor(900)\n",
    "s_Top_histo.SetFillColor(920)\n",
    "\n",
    "hs.Add(s_Top_histo)\n",
    "hs.Add(ttv_histo)\n",
    "hs.Add(tt_histo)\n",
    "hs.Add(ttb_histo)\n",
    "hs.Add(dy_histo)\n",
    "hs.Add(ttH_histo)\n",
    "\n",
    "sm_histo.SetLineColor(632)"
   ]
  },
  {
   "cell_type": "code",
   "execution_count": 318,
   "id": "gross-mouth",
   "metadata": {},
   "outputs": [],
   "source": [
    "sm_histo.Scale(5000)"
   ]
  },
  {
   "cell_type": "code",
   "execution_count": 319,
   "id": "broadband-assurance",
   "metadata": {},
   "outputs": [],
   "source": [
    "hxp = R.TH2D('datacards','{}'.format(root_file),10,0,1,10,0.1,10000)"
   ]
  },
  {
   "cell_type": "code",
   "execution_count": 320,
   "id": "accredited-yugoslavia",
   "metadata": {},
   "outputs": [
    {
     "name": "stderr",
     "output_type": "stream",
     "text": [
      "Info in <TCanvas::Print>: png file ./DL_2018_rwt_0421//sum_hists_2018_R_Zll_Klbdt_SM_4b_bin_SR_Z.root.png has been created\n"
     ]
    },
    {
     "data": {
      "image/png": "[encoded data removed]",
      "text/plain": [
       "<IPython.core.display.Image object>"
      ]
     },
     "metadata": {},
     "output_type": "display_data"
    }
   ],
   "source": [
    "c = R.TCanvas()\n",
    "c.SetLogy()\n",
    "sm_histo.GetYaxis().SetRangeUser(0.1, 800.)\n",
    "sm_histo.Draw()\n",
    "hs.Draw('histoSAME')\n",
    "sm_histo.Draw('SAME')\n",
    "c.Draw()\n",
    "c.SaveAs('{0}/{1}.png'.format(path,root_file))"
   ]
  },
  {
   "cell_type": "code",
   "execution_count": null,
   "id": "civil-canon",
   "metadata": {},
   "outputs": [],
   "source": []
  },
  {
   "cell_type": "code",
   "execution_count": null,
   "id": "level-tanzania",
   "metadata": {},
   "outputs": [],
   "source": []
  },
  {
   "cell_type": "code",
   "execution_count": null,
   "id": "stuffed-transmission",
   "metadata": {},
   "outputs": [],
   "source": []
  },
  {
   "cell_type": "code",
   "execution_count": null,
   "id": "african-barrier",
   "metadata": {},
   "outputs": [],
   "source": []
  }
 ],
 "metadata": {
  "kernelspec": {
   "display_name": "my_ml_env",
   "language": "python",
   "name": "my_ml_env"
  },
  "language_info": {
   "codemirror_mode": {
    "name": "ipython",
    "version": 3
   },
   "file_extension": ".py",
   "mimetype": "text/x-python",
   "name": "python",
   "nbconvert_exporter": "python",
   "pygments_lexer": "ipython3",
   "version": "3.9.9"
  }
 },
 "nbformat": 4,
 "nbformat_minor": 5
}
