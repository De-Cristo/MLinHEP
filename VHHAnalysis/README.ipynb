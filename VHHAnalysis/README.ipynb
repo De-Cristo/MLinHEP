{
 "cells": [
  {
   "cell_type": "markdown",
   "id": "adverse-clinic",
   "metadata": {},
   "source": [
    "# VHH Analysis TOOLS"
   ]
  },
  {
   "cell_type": "markdown",
   "id": "burning-isolation",
   "metadata": {},
   "source": [
    "---\n",
    "After set up CMS basic environment by cvmfs, one can set up the working environment by\n",
    "\n",
    "```shell\n",
    "source initial.sh\n",
    "```\n",
    "\n",
    "Other dependent packages can be setup with conda. Relavant envs has been listed in the LINK(under development...)"
   ]
  },
  {
   "cell_type": "markdown",
   "id": "piano-lottery",
   "metadata": {},
   "source": [
    "---\n",
    "## TOOLS"
   ]
  },
  {
   "cell_type": "markdown",
   "id": "homeless-royal",
   "metadata": {},
   "source": [
    "### Analysis sample preparing\n",
    "The Analysis sample preparing tool can be found in `Tools`, the `slim_training_samples.py`. Here's an example:\n",
    "\n",
    "```shell\n",
    "python slim_analysis_samples.py -m 16 -p 8 -d /PATH/TO/FILE/\n",
    "```\n",
    "\n",
    "Only specific branches will be kept after slimming, which can be set in `analysis_branch.py`."
   ]
  },
  {
   "cell_type": "markdown",
   "id": "remarkable-refund",
   "metadata": {},
   "source": [
    "### Training sample preparing\n",
    "\n",
    "Different script will be used to combine the Analysis samples to generate training samples."
   ]
  },
  {
   "cell_type": "markdown",
   "id": "vertical-liquid",
   "metadata": {},
   "source": [
    "### Coupling Merge Tool\n",
    "The coupling merge tool can be found in `Tools`, the `CouplingMergingTool.py`.\n",
    "Here's an example:\n",
    "\n",
    "```shell\n",
    "python CouplingMergingTool.py -m 4 -v 1 -n 6 -hh VHH -c c2v -r -30 30 -d 0 -w 10\n",
    "```\n",
    "\n",
    "`-m` is the number of threads to be used, `-v` is the verbose level, `-n` is the basic samples to be used to form the basic metrix, `-c` defines the coupling type(such as `c2v,kl,cv,kt`), `-r` sets the range of the scan, `-d` is the trigger if we do merge, `-w` is the new coupling of the merged sample, `-hh` defines the Di-Higgs Model (now we have updated models for GGF, VBF, VHH processes)."
   ]
  },
  {
   "cell_type": "markdown",
   "id": "pursuant-madonna",
   "metadata": {},
   "source": [
    "---\n",
    "## Training"
   ]
  },
  {
   "cell_type": "markdown",
   "id": "brutal-sauce",
   "metadata": {},
   "source": [
    "### BDT\n",
    "\n",
    "XGBoost Toolkit will be used."
   ]
  },
  {
   "cell_type": "markdown",
   "id": "sunrise-combining",
   "metadata": {},
   "source": [
    "### NN(??)\n",
    "\n",
    "Consider Pytorch and Keras as candidates."
   ]
  },
  {
   "cell_type": "code",
   "execution_count": null,
   "id": "inside-pulse",
   "metadata": {},
   "outputs": [],
   "source": []
  }
 ],
 "metadata": {
  "kernelspec": {
   "display_name": "my_ml_env",
   "language": "python",
   "name": "my_ml_env"
  },
  "language_info": {
   "codemirror_mode": {
    "name": "ipython",
    "version": 3
   },
   "file_extension": ".py",
   "mimetype": "text/x-python",
   "name": "python",
   "nbconvert_exporter": "python",
   "pygments_lexer": "ipython3",
   "version": "3.9.9"
  }
 },
 "nbformat": 4,
 "nbformat_minor": 5
}
