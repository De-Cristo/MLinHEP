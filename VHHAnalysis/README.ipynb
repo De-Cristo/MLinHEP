{
 "cells": [
  {
   "cell_type": "markdown",
   "id": "registered-works",
   "metadata": {},
   "source": [
    "# VHH Analysis TOOLS"
   ]
  },
  {
   "cell_type": "markdown",
   "id": "objective-brother",
   "metadata": {},
   "source": [
    "---\n",
    "After set up CMS basic environment by cvmfs, one can set up the working environment by\n",
    "\n",
    "```shell\n",
    "source initial.sh\n",
    "```\n",
    "\n",
    "Other dependent packages can be setup with conda. Relavant envs has been listed in the LINK(under development...)"
   ]
  },
  {
   "cell_type": "markdown",
   "id": "minus-privilege",
   "metadata": {},
   "source": [
    "---\n",
    "## 1. TOOLS"
   ]
  },
  {
   "cell_type": "markdown",
   "id": "powerful-lloyd",
   "metadata": {},
   "source": [
    "### 1. Coupling Merge Tool\n",
    "The coupling merge tool can be found in `Tools`, the `CouplingMergingTool.py`.\n",
    "Here's an example:\n",
    "\n",
    "```shell\n",
    "python CouplingMergingTool.py -m 4 -v 1 -n 6 -c c2v -r -30 30 -d 0 -w 10 -p ./PATH/TO/SAMPLES\n",
    "```\n",
    "\n",
    "`-m` is the number of threads to be used, `-v` is the verbose level, `-n` is the basic samples to be used to form the basic metrix, `-c` defines the coupling type(such as `c2v,kl,cv`), `-r` sets the range of the scan, `-d` is the trigger if we do merge, `-w` is the new coupling of the merged sample, `-p` is the path of the I/O direction\n",
    "\n",
    "```python\n",
    "parser.add_argument(\"-m\", \"--multiprocess\",       dest=\"multi\",  default=0, type=int,   help=\"enable multi-processing with n threads (default = 0)\" )\n",
    "parser.add_argument(\"-v\", \"--verbose\",            dest=\"verb\",   default=0, type=int,   help=\"different verbose level (default = 0)\" )\n",
    "parser.add_argument(\"-n\", \"--nBasicSamples\",      dest=\"nBV\",    default=6, type=int,   help=\"N basic samples (default = 6)\" )\n",
    "parser.add_argument(\"-c\", \"--CouplingType\",       dest=\"CType\",  default=\"c2v\", type=str,   help=\"Coupling type (default = c2v) cv/kl/kt ...\" )\n",
    "parser.add_argument(\"-r\", \"--CouplingRange\",      dest=\"cRange\", nargs='+', help=\"[lower limit] [higher limit] (default = -30 30)\")\n",
    "parser.add_argument(\"-d\", \"--ifDoCombine\",        dest=\"doComb\", default=0, type=int,   help=\"if do combination (default = 0)\")\n",
    "parser.add_argument(\"-w\", \"--NewCoupling\",        dest=\"newCoup\",default=10,type=int,   help=\"The new coupling we need to combine (default = 10)\")\n",
    "parser.add_argument(\"-p\", \"--IOpaths\",            dest=\"path\",   default='.',type=str,   help=\"I/O path of the basic/merged samples (default = .)\")\n",
    "```"
   ]
  },
  {
   "cell_type": "markdown",
   "id": "nuclear-monaco",
   "metadata": {},
   "source": [
    "\n",
    "### 2. Training sample preparing\n",
    "The training sample preparing tool can be found in `Tools`, the `slim_training_samples.py`. Here's an example:\n",
    "\n",
    "```shell\n",
    "\n",
    "```\n",
    "\n"
   ]
  },
  {
   "cell_type": "markdown",
   "id": "following-traffic",
   "metadata": {},
   "source": [
    "---\n",
    "## 2. Training"
   ]
  },
  {
   "cell_type": "markdown",
   "id": "directed-expense",
   "metadata": {},
   "source": [
    "### 1. BDT"
   ]
  },
  {
   "cell_type": "markdown",
   "id": "modified-forty",
   "metadata": {},
   "source": [
    "### 2. DNN(??)"
   ]
  },
  {
   "cell_type": "code",
   "execution_count": null,
   "id": "spanish-competition",
   "metadata": {},
   "outputs": [],
   "source": []
  }
 ],
 "metadata": {
  "kernelspec": {
   "display_name": "my_ml_env",
   "language": "python",
   "name": "my_ml_env"
  },
  "language_info": {
   "codemirror_mode": {
    "name": "ipython",
    "version": 3
   },
   "file_extension": ".py",
   "mimetype": "text/x-python",
   "name": "python",
   "nbconvert_exporter": "python",
   "pygments_lexer": "ipython3",
   "version": "3.9.9"
  }
 },
 "nbformat": 4,
 "nbformat_minor": 5
}
