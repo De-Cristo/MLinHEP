{
 "cells": [
  {
   "cell_type": "markdown",
   "id": "charged-presentation",
   "metadata": {},
   "source": [
    "# VHH Analysis TOOLS"
   ]
  },
  {
   "cell_type": "markdown",
   "id": "colored-flush",
   "metadata": {},
   "source": [
    "---\n",
    "After set up CMS basic environment by cvmfs, one can set up the working environment by\n",
    "\n",
    "```shell\n",
    "source initial.sh\n",
    "```\n",
    "\n",
    "Other dependent packages can be setup with conda. Relavant envs has been listed in the LINK(under development...)"
   ]
  },
  {
   "cell_type": "markdown",
   "id": "returning-exhibition",
   "metadata": {},
   "source": [
    "---\n",
    "## TOOLS"
   ]
  },
  {
   "cell_type": "markdown",
   "id": "harmful-seattle",
   "metadata": {},
   "source": [
    "### Coupling Merge Tool\n",
    "The coupling merge tool can be found in `Tools`, the `CouplingMergingTool.py`.\n",
    "Here's an example:\n",
    "\n",
    "```shell\n",
    "python CouplingMergingTool.py -m 4 -v 1 -n 6 -c c2v -r -30 30 -d 0 -w 10 -p ./PATH/TO/SAMPLES\n",
    "```\n",
    "\n",
    "`-m` is the number of threads to be used, `-v` is the verbose level, `-n` is the basic samples to be used to form the basic metrix, `-c` defines the coupling type(such as `c2v,kl,cv`), `-r` sets the range of the scan, `-d` is the trigger if we do merge, `-w` is the new coupling of the merged sample, `-p` is the path of the I/O direction\n",
    "\n",
    "```python\n",
    "parser.add_argument(\"-m\", \"--multiprocess\",       dest=\"multi\",  default=0, type=int,   help=\"enable multi-processing with n threads (default = 0)\" )\n",
    "parser.add_argument(\"-v\", \"--verbose\",            dest=\"verb\",   default=0, type=int,   help=\"different verbose level (default = 0)\" )\n",
    "parser.add_argument(\"-n\", \"--nBasicSamples\",      dest=\"nBV\",    default=6, type=int,   help=\"N basic samples (default = 6)\" )\n",
    "parser.add_argument(\"-c\", \"--CouplingType\",       dest=\"CType\",  default=\"c2v\", type=str,   help=\"Coupling type (default = c2v) cv/kl/kt ...\" )\n",
    "parser.add_argument(\"-r\", \"--CouplingRange\",      dest=\"cRange\", nargs='+', help=\"[lower limit] [higher limit] (default = -30 30)\")\n",
    "parser.add_argument(\"-d\", \"--ifDoCombine\",        dest=\"doComb\", default=0, type=int,   help=\"if do combination (default = 0)\")\n",
    "parser.add_argument(\"-w\", \"--NewCoupling\",        dest=\"newCoup\",default=10,type=int,   help=\"The new coupling we need to combine (default = 10)\")\n",
    "parser.add_argument(\"-p\", \"--IOpaths\",            dest=\"path\",   default='.',type=str,   help=\"I/O path of the basic/merged samples (default = .)\")\n",
    "```"
   ]
  },
  {
   "cell_type": "markdown",
   "id": "applicable-civilian",
   "metadata": {},
   "source": [
    "\n",
    "### Analysis sample preparing\n",
    "The Analysis sample preparing tool can be found in `Tools`, the `slim_training_samples.py`. Here's an example:\n",
    "\n",
    "```shell\n",
    "python slim_analysis_samples.py -m 8 -d /PATH/TO/FILE/\n",
    "```\n",
    "\n",
    "Only specific branches will be kept after slimming, which can be set in `analysis_branch.py`.\n"
   ]
  },
  {
   "cell_type": "markdown",
   "id": "alert-tracker",
   "metadata": {},
   "source": [
    "```python\n",
    "parser.add_argument(\"-d\", \"--NtupleDir\",     dest=\"ndir\", default='/data/',   help=\"Ntuple direction\" )\n",
    "parser.add_argument(\"-m\", \"--MultThread\",    dest=\"MT\",   type=int, default=8,   help=\"How many threads will be used (default = 8)\" )\n",
    "```"
   ]
  },
  {
   "cell_type": "markdown",
   "id": "mighty-philippines",
   "metadata": {},
   "source": [
    "### Training sample preparing"
   ]
  },
  {
   "cell_type": "markdown",
   "id": "still-soldier",
   "metadata": {},
   "source": [
    "---\n",
    "## Training"
   ]
  },
  {
   "cell_type": "markdown",
   "id": "renewable-contract",
   "metadata": {},
   "source": [
    "### BDT\n",
    "\n",
    "XGBoost Toolkit will be used."
   ]
  },
  {
   "cell_type": "markdown",
   "id": "genuine-imperial",
   "metadata": {},
   "source": [
    "### NN(??)\n",
    "\n",
    "Consider Pytorch and Keras as candidates."
   ]
  },
  {
   "cell_type": "code",
   "execution_count": null,
   "id": "technical-success",
   "metadata": {},
   "outputs": [],
   "source": []
  }
 ],
 "metadata": {
  "kernelspec": {
   "display_name": "my_ml_env",
   "language": "python",
   "name": "my_ml_env"
  },
  "language_info": {
   "codemirror_mode": {
    "name": "ipython",
    "version": 3
   },
   "file_extension": ".py",
   "mimetype": "text/x-python",
   "name": "python",
   "nbconvert_exporter": "python",
   "pygments_lexer": "ipython3",
   "version": "3.9.9"
  }
 },
 "nbformat": 4,
 "nbformat_minor": 5
}
