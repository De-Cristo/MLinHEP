{
 "cells": [
  {
   "cell_type": "code",
   "execution_count": 97,
   "id": "thousand-owner",
   "metadata": {},
   "outputs": [],
   "source": [
    "import ROOT as R"
   ]
  },
  {
   "cell_type": "code",
   "execution_count": 98,
   "id": "ideal-aquarium",
   "metadata": {},
   "outputs": [],
   "source": [
    "R.EnableImplicitMT()"
   ]
  },
  {
   "cell_type": "code",
   "execution_count": 99,
   "id": "pretty-cabinet",
   "metadata": {},
   "outputs": [],
   "source": [
    "norm_path = '/data/pubfs/zhanglic/workspace/MLinHEP/VHHAnalysis/C2V_Training/Application_Samples/'"
   ]
  },
  {
   "cell_type": "code",
   "execution_count": 100,
   "id": "indie-spouse",
   "metadata": {},
   "outputs": [],
   "source": [
    "sample_list = ['Data','TT','TTBB','DY','Other']\n",
    "signal_list = ['ZHHTo4B_CV_0_5_C2V_1_0_C3_1_0','ZHHTo4B_CV_1_0_C2V_0_0_C3_1_0','ZHHTo4B_CV_1_0_C2V_1_0_C3_0_0',\\\n",
    "               'ZHHTo4B_CV_1_0_C2V_1_0_C3_1_0','ZHHTo4B_CV_1_0_C2V_1_0_C3_2_0','ZHHTo4B_CV_1_0_C2V_2_0_C3_1_0',\\\n",
    "               'ZHHTo4B_CV_1_5_C2V_1_0_C3_1_0','ZHHTo4B_CV_1_0_C2V_1_0_C3_20_0', 'ZHHTo4B_CV_1_0_C2V_10_0_C3_1_0']\n",
    "all_list = sample_list+signal_list\n",
    "rdf_dict = {}\n",
    "histo_dict = {}"
   ]
  },
  {
   "cell_type": "code",
   "execution_count": 101,
   "id": "guided-power",
   "metadata": {},
   "outputs": [],
   "source": [
    "for _sample in all_list:\n",
    "#     rdf_dict[_sample+'_SB_2b'] = R.RDataFrame('Events',norm_path+'/'+_sample+'_Zll_rHH_SB_two_btag.root')\n",
    "#     rdf_dict[_sample+'_SB_3b'] = R.RDataFrame('Events',norm_path+'/'+_sample+'_Zll_rHH_SB_three_btag.root')\n",
    "#     rdf_dict[_sample+'_SB_4b'] = R.RDataFrame('Events',norm_path+'/'+_sample+'_Zll_rHH_SB_four_btag.root')\n",
    "    rdf_dict[_sample+'_CR_2b'] = R.RDataFrame('Events',norm_path+'/'+_sample+'_Zll_rHH_CR_two_btag.root')\n",
    "    rdf_dict[_sample+'_CR_3b'] = R.RDataFrame('Events',norm_path+'/'+_sample+'_Zll_rHH_CR_three_btag.root')\n",
    "    rdf_dict[_sample+'_CR_4b'] = R.RDataFrame('Events',norm_path+'/'+_sample+'_Zll_rHH_CR_four_btag.root')\n",
    "    rdf_dict[_sample+'_SR_2b'] = R.RDataFrame('Events',norm_path+'/'+_sample+'_Zll_rHH_SR_two_btag.root')\n",
    "    rdf_dict[_sample+'_SR_3b'] = R.RDataFrame('Events',norm_path+'/'+_sample+'_Zll_rHH_SR_three_btag.root')\n",
    "    rdf_dict[_sample+'_SR_4b'] = R.RDataFrame('Events',norm_path+'/'+_sample+'_Zll_rHH_SR_four_btag.root')\n",
    "#END"
   ]
  },
  {
   "cell_type": "code",
   "execution_count": null,
   "id": "generous-approval",
   "metadata": {},
   "outputs": [],
   "source": []
  },
  {
   "cell_type": "code",
   "execution_count": 102,
   "id": "lesbian-spotlight",
   "metadata": {},
   "outputs": [],
   "source": [
    "f_hist_out_Z = R.TFile('Histo_for_XGB_C2V_BDT.root' ,'RECREATE')"
   ]
  },
  {
   "cell_type": "code",
   "execution_count": 103,
   "id": "continued-anger",
   "metadata": {},
   "outputs": [],
   "source": [
    "for _sample in all_list:\n",
    "    model = R.RDF.TH1DModel(_sample+'_CR_2b_Z_var'+'_xgb_c2v_bdt_score','xgb_c2v_bdt_score', 20, 0, 1)\n",
    "    histo_dict[_sample+'_CR_2b_Z_var'] = rdf_dict[_sample+'_CR_2b'].Filter('isZee||isZmm')\\\n",
    "    .Filter('V_mass>75 && V_mass<105')\\\n",
    "    .Histo1D(model,'xgb_c2v_bdt_score','weight')\n",
    "    \n",
    "    model = R.RDF.TH1DModel(_sample+'_CR_3b_Z_var'+'_xgb_c2v_bdt_score','xgb_c2v_bdt_score', 20, 0, 1)\n",
    "    histo_dict[_sample+'_CR_3b_Z_var'] = rdf_dict[_sample+'_CR_3b'].Filter('isZee||isZmm')\\\n",
    "    .Filter('V_mass>75 && V_mass<105')\\\n",
    "    .Histo1D(model,'xgb_c2v_bdt_score','weight')\n",
    "    \n",
    "    model = R.RDF.TH1DModel(_sample+'_CR_4b_Z_var'+'_xgb_c2v_bdt_score','xgb_c2v_bdt_score', 20, 0, 1)\n",
    "    histo_dict[_sample+'_CR_4b_Z_var'] = rdf_dict[_sample+'_CR_4b'].Filter('isZee||isZmm')\\\n",
    "    .Filter('V_mass>75 && V_mass<105')\\\n",
    "    .Histo1D(model,'xgb_c2v_bdt_score','weight')\n",
    "    \n",
    "    histo_dict[_sample+'_CR_2b_Z_var'].Write()\n",
    "    histo_dict[_sample+'_CR_3b_Z_var'].Write()\n",
    "    histo_dict[_sample+'_CR_4b_Z_var'].Write()\n",
    "    \n",
    "    model = R.RDF.TH1DModel(_sample+'_SR_2b_Z_var'+'_xgb_c2v_bdt_score','xgb_c2v_bdt_score', 20, 0, 1)\n",
    "    histo_dict[_sample+'_SR_2b_Z_var'] = rdf_dict[_sample+'_SR_2b'].Filter('isZee||isZmm')\\\n",
    "    .Filter('V_mass>75 && V_mass<105')\\\n",
    "    .Histo1D(model,'xgb_c2v_bdt_score','weight')\n",
    "    \n",
    "    model = R.RDF.TH1DModel(_sample+'_SR_3b_Z_var'+'_xgb_c2v_bdt_score','xgb_c2v_bdt_score', 20, 0, 1)\n",
    "    histo_dict[_sample+'_SR_3b_Z_var'] = rdf_dict[_sample+'_SR_3b'].Filter('isZee||isZmm')\\\n",
    "    .Filter('V_mass>75 && V_mass<105')\\\n",
    "    .Histo1D(model,'xgb_c2v_bdt_score','weight')\n",
    "    \n",
    "    model = R.RDF.TH1DModel(_sample+'_SR_4b_Z_var'+'_xgb_c2v_bdt_score','xgb_c2v_bdt_score', 20, 0, 1)\n",
    "    histo_dict[_sample+'_SR_4b_Z_var'] = rdf_dict[_sample+'_SR_4b'].Filter('isZee||isZmm')\\\n",
    "    .Filter('V_mass>75 && V_mass<105')\\\n",
    "    .Filter('weight<10')\\\n",
    "    .Histo1D(model,'xgb_c2v_bdt_score','weight')\n",
    "    \n",
    "    histo_dict[_sample+'_SR_2b_Z_var'].Write()\n",
    "    histo_dict[_sample+'_SR_3b_Z_var'].Write()\n",
    "    histo_dict[_sample+'_SR_4b_Z_var'].Write()\n",
    "#END"
   ]
  },
  {
   "cell_type": "code",
   "execution_count": 104,
   "id": "supreme-petite",
   "metadata": {},
   "outputs": [],
   "source": [
    "for _sample in all_list:\n",
    "    model = R.RDF.TH1DModel(_sample+'_CR_2b_Z_var'+'_CMS_vhh_bdt_c2v_13TeV','CMS_vhh_bdt_c2v_13TeV', 20, -1, 1)\n",
    "    histo_dict[_sample+'_CR_2b_Z_var'] = rdf_dict[_sample+'_CR_2b'].Filter('isZee||isZmm')\\\n",
    "    .Filter('V_mass>75 && V_mass<105')\\\n",
    "    .Histo1D(model,'CMS_vhh_bdt_c2v_13TeV','weight')\n",
    "    \n",
    "    model = R.RDF.TH1DModel(_sample+'_CR_3b_Z_var'+'_CMS_vhh_bdt_c2v_13TeV','CMS_vhh_bdt_c2v_13TeV', 20, -1, 1)\n",
    "    histo_dict[_sample+'_CR_3b_Z_var'] = rdf_dict[_sample+'_CR_3b'].Filter('isZee||isZmm')\\\n",
    "    .Filter('V_mass>75 && V_mass<105')\\\n",
    "    .Histo1D(model,'CMS_vhh_bdt_c2v_13TeV','weight')\n",
    "    \n",
    "    model = R.RDF.TH1DModel(_sample+'_CR_4b_Z_var'+'_CMS_vhh_bdt_c2v_13TeV','CMS_vhh_bdt_c2v_13TeV', 20, -1, 1)\n",
    "    histo_dict[_sample+'_CR_4b_Z_var'] = rdf_dict[_sample+'_CR_4b'].Filter('isZee||isZmm')\\\n",
    "    .Filter('V_mass>75 && V_mass<105')\\\n",
    "    .Histo1D(model,'CMS_vhh_bdt_c2v_13TeV','weight')\n",
    "    \n",
    "    histo_dict[_sample+'_CR_2b_Z_var'].Write()\n",
    "    histo_dict[_sample+'_CR_3b_Z_var'].Write()\n",
    "    histo_dict[_sample+'_CR_4b_Z_var'].Write()\n",
    "    \n",
    "    model = R.RDF.TH1DModel(_sample+'_SR_2b_Z_var'+'_CMS_vhh_bdt_c2v_13TeV','CMS_vhh_bdt_c2v_13TeV', 20, -1, 1)\n",
    "    histo_dict[_sample+'_SR_2b_Z_var'] = rdf_dict[_sample+'_SR_2b'].Filter('isZee||isZmm')\\\n",
    "    .Filter('V_mass>75 && V_mass<105')\\\n",
    "    .Histo1D(model,'CMS_vhh_bdt_c2v_13TeV','weight')\n",
    "    \n",
    "    model = R.RDF.TH1DModel(_sample+'_SR_3b_Z_var'+'_CMS_vhh_bdt_c2v_13TeV','CMS_vhh_bdt_c2v_13TeV', 20, -1, 1)\n",
    "    histo_dict[_sample+'_SR_3b_Z_var'] = rdf_dict[_sample+'_SR_3b'].Filter('isZee||isZmm')\\\n",
    "    .Filter('V_mass>75 && V_mass<105')\\\n",
    "    .Histo1D(model,'CMS_vhh_bdt_c2v_13TeV','weight')\n",
    "    \n",
    "    model = R.RDF.TH1DModel(_sample+'_SR_4b_Z_var'+'_CMS_vhh_bdt_c2v_13TeV','CMS_vhh_bdt_c2v_13TeV', 20, -1, 1)\n",
    "    histo_dict[_sample+'_SR_4b_Z_var'] = rdf_dict[_sample+'_SR_4b'].Filter('isZee||isZmm')\\\n",
    "    .Filter('V_mass>75 && V_mass<105')\\\n",
    "    .Filter('weight<10')\\\n",
    "    .Histo1D(model,'CMS_vhh_bdt_c2v_13TeV','weight')\n",
    "    \n",
    "    histo_dict[_sample+'_SR_2b_Z_var'].Write()\n",
    "    histo_dict[_sample+'_SR_3b_Z_var'].Write()\n",
    "    histo_dict[_sample+'_SR_4b_Z_var'].Write()\n",
    "#END"
   ]
  },
  {
   "cell_type": "code",
   "execution_count": 105,
   "id": "purple-network",
   "metadata": {},
   "outputs": [],
   "source": [
    "f_hist_out_Z.Close()"
   ]
  },
  {
   "cell_type": "code",
   "execution_count": 106,
   "id": "absent-bridal",
   "metadata": {},
   "outputs": [],
   "source": [
    "f_hist_in_Z = R.TFile('Histo_for_XGB_C2V_BDT.root','READ')"
   ]
  },
  {
   "cell_type": "code",
   "execution_count": 107,
   "id": "administrative-tattoo",
   "metadata": {},
   "outputs": [],
   "source": [
    "histo_dict  = {}\n",
    "keys = f_hist_in_Z.GetListOfKeys()\n",
    "for key in keys:\n",
    "    histo_dict[key.ReadObj().GetName()] = f_hist_in_Z.Get(key.ReadObj().GetName())\n",
    "#     print(key.ReadObj().GetName())"
   ]
  },
  {
   "cell_type": "code",
   "execution_count": 108,
   "id": "wrapped-contamination",
   "metadata": {},
   "outputs": [],
   "source": [
    "hs = R.THStack(\"stack\",\"xgb_c2v_bdt_score\")\n",
    "\n",
    "hs.Add(histo_dict['Other_SR_4b_Z_var_xgb_c2v_bdt_score'])\n",
    "histo_dict['Other_SR_4b_Z_var_xgb_c2v_bdt_score'].SetFillColor(800)\n",
    "\n",
    "hs.Add(histo_dict['TTBB_SR_4b_Z_var_xgb_c2v_bdt_score'])\n",
    "histo_dict['TTBB_SR_4b_Z_var_xgb_c2v_bdt_score'].SetFillColor(432)\n",
    "\n",
    "hs.Add(histo_dict['TT_SR_4b_Z_var_xgb_c2v_bdt_score'])\n",
    "histo_dict['TT_SR_4b_Z_var_xgb_c2v_bdt_score'].SetFillColor(600)\n",
    "\n",
    "hs.Add(histo_dict['DY_SR_4b_Z_var_xgb_c2v_bdt_score'])\n",
    "histo_dict['DY_SR_4b_Z_var_xgb_c2v_bdt_score'].SetFillColor(400)\n",
    "\n",
    "histo_dict['Data_SR_4b_Z_var_xgb_c2v_bdt_score'].SetMarkerSize()\n",
    "histo_dict['Data_SR_4b_Z_var_xgb_c2v_bdt_score'].SetMarkerStyle(20)\n",
    "histo_dict['Data_SR_4b_Z_var_xgb_c2v_bdt_score'].Sumw2()"
   ]
  },
  {
   "cell_type": "code",
   "execution_count": 109,
   "id": "intense-demographic",
   "metadata": {},
   "outputs": [],
   "source": [
    "histo_dict['ZHHTo4B_CV_1_0_C2V_1_0_C3_1_0_SR_4b_Z_var_xgb_c2v_bdt_score'].SetLineColor(632)\n",
    "histo_dict['ZHHTo4B_CV_1_0_C2V_10_0_C3_1_0_SR_4b_Z_var_xgb_c2v_bdt_score'].SetLineColor(416)\n",
    "histo_dict['ZHHTo4B_CV_1_0_C2V_1_0_C3_1_0_SR_4b_Z_var_xgb_c2v_bdt_score'].SetLineWidth(2)\n",
    "histo_dict['ZHHTo4B_CV_1_0_C2V_10_0_C3_1_0_SR_4b_Z_var_xgb_c2v_bdt_score'].SetLineWidth(2)\n",
    "\n",
    "histo_dict['ZHHTo4B_CV_1_0_C2V_1_0_C3_1_0_SR_4b_Z_var_CMS_vhh_bdt_c2v_13TeV'].SetLineColor(632)\n",
    "histo_dict['ZHHTo4B_CV_1_0_C2V_10_0_C3_1_0_SR_4b_Z_var_CMS_vhh_bdt_c2v_13TeV'].SetLineColor(416)\n",
    "histo_dict['ZHHTo4B_CV_1_0_C2V_1_0_C3_1_0_SR_4b_Z_var_CMS_vhh_bdt_c2v_13TeV'].SetLineWidth(2)\n",
    "histo_dict['ZHHTo4B_CV_1_0_C2V_10_0_C3_1_0_SR_4b_Z_var_CMS_vhh_bdt_c2v_13TeV'].SetLineWidth(2)"
   ]
  },
  {
   "cell_type": "code",
   "execution_count": 110,
   "id": "medium-hydrogen",
   "metadata": {},
   "outputs": [],
   "source": [
    "histo_dict['ZHHTo4B_CV_1_0_C2V_1_0_C3_1_0_SR_4b_Z_var_xgb_c2v_bdt_score'].Scale(4000)\n",
    "histo_dict['ZHHTo4B_CV_1_0_C2V_10_0_C3_1_0_SR_4b_Z_var_xgb_c2v_bdt_score'].Scale(20)\n",
    "\n",
    "histo_dict['ZHHTo4B_CV_1_0_C2V_1_0_C3_1_0_SR_4b_Z_var_CMS_vhh_bdt_c2v_13TeV'].Scale(4000)\n",
    "histo_dict['ZHHTo4B_CV_1_0_C2V_10_0_C3_1_0_SR_4b_Z_var_CMS_vhh_bdt_c2v_13TeV'].Scale(20)"
   ]
  },
  {
   "cell_type": "code",
   "execution_count": 111,
   "id": "recognized-contamination",
   "metadata": {},
   "outputs": [
    {
     "name": "stderr",
     "output_type": "stream",
     "text": [
      "Info in <TCanvas::Print>: png file temp.png has been created\n"
     ]
    },
    {
     "data": {
      "image/png": "[encoded data removed]",
      "text/plain": [
       "<IPython.core.display.Image object>"
      ]
     },
     "metadata": {},
     "output_type": "display_data"
    }
   ],
   "source": [
    "c = R.TCanvas()\n",
    "R.gStyle.SetOptStat(0000)\n",
    "hs.Draw('hist')\n",
    "# histo_dict['Data_SR_4b_Z_var_xgb_c2v_bdt_score'].Draw('SAME')\n",
    "hs.Draw('histSAME')\n",
    "# histo_dict['Data_SR_4b_Z_var_xgb_c2v_bdt_score'].Draw('SAME')\n",
    "histo_dict['ZHHTo4B_CV_1_0_C2V_1_0_C3_1_0_SR_4b_Z_var_xgb_c2v_bdt_score'].Draw(\"SAMEhist\")\n",
    "histo_dict['ZHHTo4B_CV_1_0_C2V_10_0_C3_1_0_SR_4b_Z_var_xgb_c2v_bdt_score'].Draw(\"SAMEhist\")\n",
    "c.Draw()\n",
    "c.SaveAs('temp.png')"
   ]
  },
  {
   "cell_type": "code",
   "execution_count": 124,
   "id": "dominican-coast",
   "metadata": {},
   "outputs": [
    {
     "name": "stdout",
     "output_type": "stream",
     "text": [
      "0.6555524424704506\n",
      "0.45073997864891097\n"
     ]
    },
    {
     "name": "stderr",
     "output_type": "stream",
     "text": [
      "Info in <TCanvas::Print>: png file temp.png has been created\n"
     ]
    },
    {
     "data": {
      "image/png": "[encoded data removed]",
      "text/plain": [
       "<IPython.core.display.Image object>"
      ]
     },
     "metadata": {},
     "output_type": "display_data"
    }
   ],
   "source": [
    "c = R.TCanvas()\n",
    "R.gStyle.SetOptStat(0000)\n",
    "histo_dict['ZHHTo4B_CV_1_0_C2V_10_0_C3_1_0_SR_4b_Z_var_xgb_c2v_bdt_score'].DrawNormalized(\"SAMEhist\")\n",
    "histo_dict['ZHHTo4B_CV_1_0_C2V_1_0_C3_1_0_SR_4b_Z_var_xgb_c2v_bdt_score'].DrawNormalized(\"SAMEhist\")\n",
    "c.Draw()\n",
    "c.SaveAs('temp.png')\n",
    "print(histo_dict['ZHHTo4B_CV_1_0_C2V_10_0_C3_1_0_SR_4b_Z_var_xgb_c2v_bdt_score'].Integral(1,10)/histo_dict['ZHHTo4B_CV_1_0_C2V_10_0_C3_1_0_SR_4b_Z_var_xgb_c2v_bdt_score'].Integral())\n",
    "print(histo_dict['ZHHTo4B_CV_1_0_C2V_1_0_C3_1_0_SR_4b_Z_var_xgb_c2v_bdt_score'].Integral(1,10)/histo_dict['ZHHTo4B_CV_1_0_C2V_1_0_C3_1_0_SR_4b_Z_var_xgb_c2v_bdt_score'].Integral())\n"
   ]
  },
  {
   "cell_type": "code",
   "execution_count": 125,
   "id": "adapted-impact",
   "metadata": {},
   "outputs": [
    {
     "name": "stdout",
     "output_type": "stream",
     "text": [
      "0.5407089970686132\n",
      "0.3572142370266794\n"
     ]
    },
    {
     "name": "stderr",
     "output_type": "stream",
     "text": [
      "Info in <TCanvas::Print>: png file temp.png has been created\n"
     ]
    },
    {
     "data": {
      "image/png": "[encoded data removed]",
      "text/plain": [
       "<IPython.core.display.Image object>"
      ]
     },
     "metadata": {},
     "output_type": "display_data"
    }
   ],
   "source": [
    "c = R.TCanvas()\n",
    "R.gStyle.SetOptStat(0000)\n",
    "histo_dict['ZHHTo4B_CV_1_0_C2V_1_0_C3_1_0_SR_4b_Z_var_CMS_vhh_bdt_c2v_13TeV'].DrawNormalized(\"SAMEhist\")\n",
    "histo_dict['ZHHTo4B_CV_1_0_C2V_10_0_C3_1_0_SR_4b_Z_var_CMS_vhh_bdt_c2v_13TeV'].DrawNormalized(\"SAMEhist\")\n",
    "c.Draw()\n",
    "c.SaveAs('temp.png')\n",
    "print(histo_dict['ZHHTo4B_CV_1_0_C2V_10_0_C3_1_0_SR_4b_Z_var_CMS_vhh_bdt_c2v_13TeV'].Integral(1,10)/histo_dict['ZHHTo4B_CV_1_0_C2V_10_0_C3_1_0_SR_4b_Z_var_CMS_vhh_bdt_c2v_13TeV'].Integral())\n",
    "print(histo_dict['ZHHTo4B_CV_1_0_C2V_1_0_C3_1_0_SR_4b_Z_var_CMS_vhh_bdt_c2v_13TeV'].Integral(1,10)/histo_dict['ZHHTo4B_CV_1_0_C2V_1_0_C3_1_0_SR_4b_Z_var_CMS_vhh_bdt_c2v_13TeV'].Integral())\n"
   ]
  },
  {
   "cell_type": "code",
   "execution_count": null,
   "id": "statutory-remedy",
   "metadata": {},
   "outputs": [],
   "source": []
  }
 ],
 "metadata": {
  "kernelspec": {
   "display_name": "my_ml_env",
   "language": "python",
   "name": "my_ml_env"
  },
  "language_info": {
   "codemirror_mode": {
    "name": "ipython",
    "version": 3
   },
   "file_extension": ".py",
   "mimetype": "text/x-python",
   "name": "python",
   "nbconvert_exporter": "python",
   "pygments_lexer": "ipython3",
   "version": "3.9.9"
  }
 },
 "nbformat": 4,
 "nbformat_minor": 5
}
