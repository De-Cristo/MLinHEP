{
 "cells": [
  {
   "cell_type": "code",
   "execution_count": 1,
   "id": "industrial-humanitarian",
   "metadata": {},
   "outputs": [],
   "source": [
    "import re\n",
    "import xml.etree.cElementTree as ET\n",
    "regex_float_pattern = r'[-+]?(\\d+(\\.\\d*)?|\\.\\d+)([eE][-+]?\\d+)?'"
   ]
  },
  {
   "cell_type": "code",
   "execution_count": null,
   "id": "reliable-orchestra",
   "metadata": {},
   "outputs": [],
   "source": [
    "#thanks to Huilin [https://gist.github.com/hqucms/56844f4d1e04757704f6afcdaa6f65a8]"
   ]
  },
  {
   "cell_type": "code",
   "execution_count": 2,
   "id": "postal-morris",
   "metadata": {},
   "outputs": [],
   "source": [
    "def build_tree(xgtree, base_xml_element, var_indices):\n",
    "    parent_element_dict = {'0':base_xml_element}\n",
    "    pos_dict = {'0':'s'}\n",
    "    for line in xgtree.split('\\n'):\n",
    "        if not line: continue\n",
    "        if ':leaf=' in line:\n",
    "            #leaf node\n",
    "            result = re.match(r'(\\t*)(\\d+):leaf=({0})$'.format(regex_float_pattern), line)\n",
    "            if not result:\n",
    "                print(line)\n",
    "            depth = result.group(1).count('\\t')\n",
    "            inode = result.group(2)\n",
    "            res = result.group(3)\n",
    "            node_elementTree = ET.SubElement(parent_element_dict[inode], \"Node\", pos=str(pos_dict[inode]),\n",
    "                                             depth=str(depth), NCoef=\"0\", IVar=\"-1\", Cut=\"0.0e+00\", cType=\"1\", res=str(res), rms=\"0.0e+00\", purity=\"0.0e+00\", nType=\"-99\")\n",
    "        else:\n",
    "            #\\t\\t3:[var_topcand_mass<138.19] yes=7,no=8,missing=7\n",
    "            result = re.match(r'(\\t*)([0-9]+):\\[(?P<var>.+)<(?P<cut>{0})\\]\\syes=(?P<yes>\\d+),no=(?P<no>\\d+)'.format(regex_float_pattern),line)\n",
    "            if not result:\n",
    "                print(line)\n",
    "            depth = result.group(1).count('\\t')\n",
    "            inode = result.group(2)\n",
    "            var = result.group('var')\n",
    "            cut = result.group('cut')\n",
    "            lnode = result.group('yes')\n",
    "            rnode = result.group('no')\n",
    "            pos_dict[lnode] = 'l'\n",
    "            pos_dict[rnode] = 'r'\n",
    "            node_elementTree = ET.SubElement(parent_element_dict[inode], \"Node\", pos=str(pos_dict[inode]),\n",
    "                                             depth=str(depth), NCoef=\"0\", IVar=str(var_indices[var]), Cut=str(cut),\n",
    "                                             cType=\"1\", res=\"0.0e+00\", rms=\"0.0e+00\", purity=\"0.0e+00\", nType=\"0\")\n",
    "            parent_element_dict[lnode] = node_elementTree\n",
    "            parent_element_dict[rnode] = node_elementTree"
   ]
  },
  {
   "cell_type": "code",
   "execution_count": 3,
   "id": "pressed-range",
   "metadata": {},
   "outputs": [],
   "source": [
    "from __future__ import division\n",
    "import xgboost as xgb \n",
    "from xgboost import plot_importance\n",
    "from xgboost import plot_tree\n",
    "from xgboost import XGBClassifier"
   ]
  },
  {
   "cell_type": "code",
   "execution_count": 4,
   "id": "fixed-acting",
   "metadata": {},
   "outputs": [],
   "source": [
    "XGBmodel = './XGB_Model/C2V_bdt.json'\n",
    "xgbc = XGBClassifier()\n",
    "xgbc.load_model(XGBmodel)\n",
    "model = xgbc.get_booster().get_dump()\n",
    "# xgbc = xgbc.get_dump()"
   ]
  },
  {
   "cell_type": "code",
   "execution_count": 5,
   "id": "written-sauce",
   "metadata": {},
   "outputs": [],
   "source": [
    "train_var = [('VHH_H2H1_pt_ratio','F'),('selLeptons_pt_1','F'), ('VHH_Vreco4j_HT','F'),\\\n",
    "                 ('VHH_V_H2_dPhi','F'), ('VHH_V_HH_dPhi','F'), ('VHH_V_HH_pT_Ratio','F'),\\\n",
    "                 ('VHH_H1_BJet_dR','F'), ('VHH_H2_BJet_dR','F'), \\\n",
    "                 ('VHH_H2_e','F'),\\\n",
    "                 ('VHH_HH_m','F'), ('VHH_HH_dR','F') \\\n",
    "            ]"
   ]
  },
  {
   "cell_type": "code",
   "execution_count": null,
   "id": "physical-dakota",
   "metadata": {},
   "outputs": [],
   "source": []
  },
  {
   "cell_type": "code",
   "execution_count": 6,
   "id": "governmental-poverty",
   "metadata": {},
   "outputs": [],
   "source": [
    "def convert_model(model, input_variables, output_xml):\n",
    "    NTrees = len(model)\n",
    "    var_list = input_variables\n",
    "    var_indices = {}\n",
    "    \n",
    "    # <MethodSetup>\n",
    "    MethodSetup = ET.Element(\"MethodSetup\", Method=\"BDT::BDT\")\n",
    "\n",
    "    # <Variables>\n",
    "    Variables = ET.SubElement(MethodSetup, \"Variables\", NVar=str(len(var_list)))\n",
    "    for ind, val in enumerate(var_list):\n",
    "        name = val[0]\n",
    "        var_type = val[1]\n",
    "        var_indices[name] = ind\n",
    "        Variable = ET.SubElement(Variables, \"Variable\", VarIndex=str(ind), Type=val[1], \n",
    "            Expression=name, Label=name, Title=name, Unit=\"\", Internal=name, \n",
    "            Min=\"0.0e+00\", Max=\"0.0e+00\")\n",
    "\n",
    "    # <GeneralInfo>\n",
    "    GeneralInfo = ET.SubElement(MethodSetup, \"GeneralInfo\")\n",
    "    Info_Creator = ET.SubElement(GeneralInfo, \"Info\", name=\"Creator\", value=\"xgboost2TMVA\")\n",
    "    Info_AnalysisType = ET.SubElement(GeneralInfo, \"Info\", name=\"AnalysisType\", value=\"Classification\")\n",
    "\n",
    "    # <Options>\n",
    "    Options = ET.SubElement(MethodSetup, \"Options\")\n",
    "    Option_NodePurityLimit = ET.SubElement(Options, \"Option\", name=\"NodePurityLimit\", modified=\"No\").text = \"5.00e-01\"\n",
    "    Option_BoostType = ET.SubElement(Options, \"Option\", name=\"BoostType\", modified=\"Yes\").text = \"Grad\"\n",
    "    \n",
    "    # <Weights>\n",
    "    Weights = ET.SubElement(MethodSetup, \"Weights\", NTrees=str(NTrees), AnalysisType=\"1\")\n",
    "    \n",
    "    for itree in range(NTrees):\n",
    "        BinaryTree = ET.SubElement(Weights, \"BinaryTree\", type=\"DecisionTree\", boostWeight=\"1.0e+00\", itree=str(itree))\n",
    "        build_tree(model[itree], BinaryTree, var_indices)\n",
    "        \n",
    "    tree = ET.ElementTree(MethodSetup)\n",
    "    tree.write(output_xml)"
   ]
  },
  {
   "cell_type": "code",
   "execution_count": 7,
   "id": "allied-metadata",
   "metadata": {},
   "outputs": [],
   "source": [
    "convert_model(model,train_var,output_xml='xgboost.xml')"
   ]
  },
  {
   "cell_type": "code",
   "execution_count": null,
   "id": "black-timer",
   "metadata": {},
   "outputs": [],
   "source": []
  }
 ],
 "metadata": {
  "kernelspec": {
   "display_name": "my_ml_env",
   "language": "python",
   "name": "my_ml_env"
  },
  "language_info": {
   "codemirror_mode": {
    "name": "ipython",
    "version": 3
   },
   "file_extension": ".py",
   "mimetype": "text/x-python",
   "name": "python",
   "nbconvert_exporter": "python",
   "pygments_lexer": "ipython3",
   "version": "3.9.9"
  }
 },
 "nbformat": 4,
 "nbformat_minor": 5
}
