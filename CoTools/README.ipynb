{
 "cells": [
  {
   "cell_type": "markdown",
   "id": "wooden-saturday",
   "metadata": {},
   "source": [
    "# HEP Analysis TOOLS"
   ]
  },
  {
   "cell_type": "markdown",
   "id": "african-wyoming",
   "metadata": {},
   "source": [
    "---\n",
    "## 1. Varial (CMS)"
   ]
  },
  {
   "cell_type": "markdown",
   "id": "documentary-diversity",
   "metadata": {},
   "source": [
    "&emsp;Toolbox for physics analysis with ROOT.\n",
    "\n",
    "### 1. Installation\n",
    "\n",
    "&emsp;&emsp;Simply use the shell script:\n",
    "\n",
    "``` shell\n",
    "source set-Varial.sh\n",
    "```"
   ]
  },
  {
   "cell_type": "markdown",
   "id": "worst-identity",
   "metadata": {},
   "source": [
    "### 2. Environment\n",
    "&emsp;&emsp;Varial hasn't been maintained for several years, the basic toolkit depend on environment a lot.\n",
    "Briefly, `ROOT 6.20` and relavant `python2` are needed."
   ]
  },
  {
   "cell_type": "markdown",
   "id": "eleven-corner",
   "metadata": {},
   "source": [
    "---\n",
    "## 2. koza4ok (ATLAS)"
   ]
  },
  {
   "cell_type": "markdown",
   "id": "serious-supply",
   "metadata": {},
   "source": [
    "<img width=\"260px\" align=\"right\" hspace=\"7\" vspace=\"5\" src=\"https://web2.ph.utexas.edu/~ilchenko/img/roc_github.png\">\n",
    "\n",
    "&emsp;&emsp;The package contains scikit-learn to TMVA convertor called ```skTMVA```. The idea is to save scikit-learn BDT model to the TMVA xml-file. This allows you to use scikit-learn model directly from TMVA. Once the model is trained and converted, scikit-learn library is not needed anymore! The classification task can be performed with TMVA/ROOT only. This is particularly useful within ATLAS framework where there is no scikit-learn installed. A user can train the classifier with scikit-learn on his laptop and later use in ATLAS framework converted to the TMVA xml-file. \n",
    "\n",
    "### 1. Dependencies\n",
    "- [ROOT](http://root.cern.ch) (with TMVA package)\n",
    "- [NumPy](http://www.numpy.org/)\n",
    "- [scikit-learn](http://scikit-learn.org/)"
   ]
  },
  {
   "cell_type": "code",
   "execution_count": null,
   "id": "amber-clock",
   "metadata": {},
   "outputs": [],
   "source": []
  }
 ],
 "metadata": {
  "kernelspec": {
   "display_name": "my_ml_env",
   "language": "python",
   "name": "my_ml_env"
  },
  "language_info": {
   "codemirror_mode": {
    "name": "ipython",
    "version": 3
   },
   "file_extension": ".py",
   "mimetype": "text/x-python",
   "name": "python",
   "nbconvert_exporter": "python",
   "pygments_lexer": "ipython3",
   "version": "3.9.9"
  }
 },
 "nbformat": 4,
 "nbformat_minor": 5
}
